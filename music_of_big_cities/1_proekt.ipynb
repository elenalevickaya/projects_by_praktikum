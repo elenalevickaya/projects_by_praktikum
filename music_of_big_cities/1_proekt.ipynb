{
 "cells": [
  {
   "cell_type": "markdown",
   "metadata": {},
   "source": [
    "<div style=\"border:solid green 2px; padding: 20px\"> \n",
    "    \n",
    "**Комментарий ревьюера**\n",
    "\n",
    "Привет! Меня зовут Сысоева Вера.\n",
    "    \n",
    "Далее в файле мои комментарии ты сможешь найти в ячейках, аналогичных данной ( если рамки комментария зелёные и отмечены **#ок** - всё сделано правильно; жёлтые и отмечены **#можно лучше** - есть замечания, но не критично; красные с пометкой **#ошибка** - нужно переделать). Не удаляй эти комментарии и постарайся учесть их в ходе выполнения проекта.\n",
    "    \n",
    "Я буду поддерживать версионность комментариев, и при следующих итерациях комментарии будут выделены, как \"Комментраии ревьюера - 2 (3 и.т.д.)\"\n",
    "    \n",
    "Если у тебя есть замечания, возражения и вопросы, ты можешь писать свои комментарии, по возможности выделяй их так же цветом (например, синим), чтоб их можно было легко отделить от текста проекта. \n",
    "    \n",
    "Кстати, предлагаю сразу общаться на \"ты\".\n",
    "    \n",
    "Увидев у тебя ошибку, в первый раз я лишь укажу на ее наличие и дам тебе возможность самостоятельно найти и исправить ее. На реальной работе твой начальник будет поступать так же, а я пытаюсь подготовить тебя именно к работе аналитиком. Но если ты пока не справишься с такой задачей - при следующей проверке я дам более точную подсказку.\n",
    "    \n",
    "</div>"
   ]
  },
  {
   "cell_type": "markdown",
   "metadata": {
    "id": "E0vqbgi9ay0H"
   },
   "source": [
    "# Яндекс.Музыка"
   ]
  },
  {
   "cell_type": "markdown",
   "metadata": {
    "id": "VUC88oWjTJw2"
   },
   "source": [
    "Сравнение Москвы и Петербурга окружено мифами. Например:\n",
    " * Москва — мегаполис, подчинённый жёсткому ритму рабочей недели;\n",
    " * Петербург — культурная столица, со своими вкусами.\n",
    "\n",
    "На данных Яндекс.Музыки вы сравните поведение пользователей двух столиц.\n",
    "\n",
    "**Цель исследования** — проверьте три гипотезы:\n",
    "1. Активность пользователей зависит от дня недели. Причём в Москве и Петербурге это проявляется по-разному.\n",
    "2. В понедельник утром в Москве преобладают одни жанры, а в Петербурге — другие. Так же и вечером пятницы преобладают разные жанры — в зависимости от города. \n",
    "3. Москва и Петербург предпочитают разные жанры музыки. В Москве чаще слушают поп-музыку, в Петербурге — русский рэп.\n",
    "\n",
    "**Ход исследования**\n",
    "\n",
    "Данные о поведении пользователей вы получите из файла `yandex_music_project.csv`. О качестве данных ничего не известно. Поэтому перед проверкой гипотез понадобится обзор данных. \n",
    "\n",
    "Вы проверите данные на ошибки и оцените их влияние на исследование. Затем, на этапе предобработки вы поищете возможность исправить самые критичные ошибки данных.\n",
    " \n",
    "Таким образом, исследование пройдёт в три этапа:\n",
    " 1. Обзор данных.\n",
    " 2. Предобработка данных.\n",
    " 3. Проверка гипотез.\n",
    "\n"
   ]
  },
  {
   "cell_type": "markdown",
   "metadata": {
    "id": "Ml1hmfXC_Zcs"
   },
   "source": [
    "## Обзор данных\n",
    "\n",
    "Составьте первое представление о данных Яндекс.Музыки.\n",
    "\n",
    "\n"
   ]
  },
  {
   "cell_type": "markdown",
   "metadata": {
    "id": "57eAOGIz_Zcs"
   },
   "source": [
    "Основной инструмент аналитика — `pandas`. Импортируйте эту библиотеку."
   ]
  },
  {
   "cell_type": "code",
   "execution_count": 5,
   "metadata": {
    "id": "AXN7PHPN_Zcs"
   },
   "outputs": [],
   "source": [
    "import pandas as pd # импорт библиотеки pandas"
   ]
  },
  {
   "cell_type": "markdown",
   "metadata": {
    "id": "SG23P8tt_Zcs"
   },
   "source": [
    "Прочитайте файл `yandex_music_project.csv` из папки `/datasets` и сохраните его в переменной `df`:"
   ]
  },
  {
   "cell_type": "code",
   "execution_count": 6,
   "metadata": {
    "id": "fFVu7vqh_Zct"
   },
   "outputs": [],
   "source": [
    "df = pd.read_csv('/datasets/yandex_music_project.csv')# чтение файла с данными и сохранение в df"
   ]
  },
  {
   "cell_type": "markdown",
   "metadata": {},
   "source": [
    "<div style=\"border:solid green 2px; padding: 20px\"> \n",
    "    \n",
    "**Комментарий ревьюера**\n",
    "\n",
    "**#ок**\n",
    "\n",
    "Отлично, все верно подгружено. \n",
    "    \n",
    "Также при работе с проектами тебе может понадобится работать на своей машине локально. Но в итоге сдать его можно только с сервера. Чтобы данные подгружались и локально и глобально можно использовать конструкцию try-except\n",
    "    \n",
    "    try:\n",
    "        df = pd.read_csv('C:/Users/datasets/yandex_music_project.csv')  # Локальный путь\n",
    "    except:\n",
    "        df = pd.read_csv('/datasets/yandex_music_project.csv')  # Серверный путь\n",
    "    \n",
    "Т.е. программа пытается подгрузить файл локально, и если не удается, то подгружает с сервера\n",
    "    \n",
    "</div>"
   ]
  },
  {
   "cell_type": "markdown",
   "metadata": {
    "id": "rDoOMd3uTqnZ"
   },
   "source": [
    "Выведите на экран первые десять строк таблицы:"
   ]
  },
  {
   "cell_type": "code",
   "execution_count": 7,
   "metadata": {
    "id": "oWTVX3gW_Zct"
   },
   "outputs": [
    {
     "data": {
      "text/html": [
       "<div>\n",
       "<style scoped>\n",
       "    .dataframe tbody tr th:only-of-type {\n",
       "        vertical-align: middle;\n",
       "    }\n",
       "\n",
       "    .dataframe tbody tr th {\n",
       "        vertical-align: top;\n",
       "    }\n",
       "\n",
       "    .dataframe thead th {\n",
       "        text-align: right;\n",
       "    }\n",
       "</style>\n",
       "<table border=\"1\" class=\"dataframe\">\n",
       "  <thead>\n",
       "    <tr style=\"text-align: right;\">\n",
       "      <th></th>\n",
       "      <th>userID</th>\n",
       "      <th>Track</th>\n",
       "      <th>artist</th>\n",
       "      <th>genre</th>\n",
       "      <th>City</th>\n",
       "      <th>time</th>\n",
       "      <th>Day</th>\n",
       "    </tr>\n",
       "  </thead>\n",
       "  <tbody>\n",
       "    <tr>\n",
       "      <td>0</td>\n",
       "      <td>FFB692EC</td>\n",
       "      <td>Kamigata To Boots</td>\n",
       "      <td>The Mass Missile</td>\n",
       "      <td>rock</td>\n",
       "      <td>Saint-Petersburg</td>\n",
       "      <td>20:28:33</td>\n",
       "      <td>Wednesday</td>\n",
       "    </tr>\n",
       "    <tr>\n",
       "      <td>1</td>\n",
       "      <td>55204538</td>\n",
       "      <td>Delayed Because of Accident</td>\n",
       "      <td>Andreas Rönnberg</td>\n",
       "      <td>rock</td>\n",
       "      <td>Moscow</td>\n",
       "      <td>14:07:09</td>\n",
       "      <td>Friday</td>\n",
       "    </tr>\n",
       "    <tr>\n",
       "      <td>2</td>\n",
       "      <td>20EC38</td>\n",
       "      <td>Funiculì funiculà</td>\n",
       "      <td>Mario Lanza</td>\n",
       "      <td>pop</td>\n",
       "      <td>Saint-Petersburg</td>\n",
       "      <td>20:58:07</td>\n",
       "      <td>Wednesday</td>\n",
       "    </tr>\n",
       "    <tr>\n",
       "      <td>3</td>\n",
       "      <td>A3DD03C9</td>\n",
       "      <td>Dragons in the Sunset</td>\n",
       "      <td>Fire + Ice</td>\n",
       "      <td>folk</td>\n",
       "      <td>Saint-Petersburg</td>\n",
       "      <td>08:37:09</td>\n",
       "      <td>Monday</td>\n",
       "    </tr>\n",
       "    <tr>\n",
       "      <td>4</td>\n",
       "      <td>E2DC1FAE</td>\n",
       "      <td>Soul People</td>\n",
       "      <td>Space Echo</td>\n",
       "      <td>dance</td>\n",
       "      <td>Moscow</td>\n",
       "      <td>08:34:34</td>\n",
       "      <td>Monday</td>\n",
       "    </tr>\n",
       "    <tr>\n",
       "      <td>5</td>\n",
       "      <td>842029A1</td>\n",
       "      <td>Преданная</td>\n",
       "      <td>IMPERVTOR</td>\n",
       "      <td>rusrap</td>\n",
       "      <td>Saint-Petersburg</td>\n",
       "      <td>13:09:41</td>\n",
       "      <td>Friday</td>\n",
       "    </tr>\n",
       "    <tr>\n",
       "      <td>6</td>\n",
       "      <td>4CB90AA5</td>\n",
       "      <td>True</td>\n",
       "      <td>Roman Messer</td>\n",
       "      <td>dance</td>\n",
       "      <td>Moscow</td>\n",
       "      <td>13:00:07</td>\n",
       "      <td>Wednesday</td>\n",
       "    </tr>\n",
       "    <tr>\n",
       "      <td>7</td>\n",
       "      <td>F03E1C1F</td>\n",
       "      <td>Feeling This Way</td>\n",
       "      <td>Polina Griffith</td>\n",
       "      <td>dance</td>\n",
       "      <td>Moscow</td>\n",
       "      <td>20:47:49</td>\n",
       "      <td>Wednesday</td>\n",
       "    </tr>\n",
       "    <tr>\n",
       "      <td>8</td>\n",
       "      <td>8FA1D3BE</td>\n",
       "      <td>И вновь продолжается бой</td>\n",
       "      <td>NaN</td>\n",
       "      <td>ruspop</td>\n",
       "      <td>Moscow</td>\n",
       "      <td>09:17:40</td>\n",
       "      <td>Friday</td>\n",
       "    </tr>\n",
       "    <tr>\n",
       "      <td>9</td>\n",
       "      <td>E772D5C0</td>\n",
       "      <td>Pessimist</td>\n",
       "      <td>NaN</td>\n",
       "      <td>dance</td>\n",
       "      <td>Saint-Petersburg</td>\n",
       "      <td>21:20:49</td>\n",
       "      <td>Wednesday</td>\n",
       "    </tr>\n",
       "  </tbody>\n",
       "</table>\n",
       "</div>"
      ],
      "text/plain": [
       "     userID                        Track            artist   genre  \\\n",
       "0  FFB692EC            Kamigata To Boots  The Mass Missile    rock   \n",
       "1  55204538  Delayed Because of Accident  Andreas Rönnberg    rock   \n",
       "2    20EC38            Funiculì funiculà       Mario Lanza     pop   \n",
       "3  A3DD03C9        Dragons in the Sunset        Fire + Ice    folk   \n",
       "4  E2DC1FAE                  Soul People        Space Echo   dance   \n",
       "5  842029A1                    Преданная         IMPERVTOR  rusrap   \n",
       "6  4CB90AA5                         True      Roman Messer   dance   \n",
       "7  F03E1C1F             Feeling This Way   Polina Griffith   dance   \n",
       "8  8FA1D3BE     И вновь продолжается бой               NaN  ruspop   \n",
       "9  E772D5C0                    Pessimist               NaN   dance   \n",
       "\n",
       "             City        time        Day  \n",
       "0  Saint-Petersburg  20:28:33  Wednesday  \n",
       "1            Moscow  14:07:09     Friday  \n",
       "2  Saint-Petersburg  20:58:07  Wednesday  \n",
       "3  Saint-Petersburg  08:37:09     Monday  \n",
       "4            Moscow  08:34:34     Monday  \n",
       "5  Saint-Petersburg  13:09:41     Friday  \n",
       "6            Moscow  13:00:07  Wednesday  \n",
       "7            Moscow  20:47:49  Wednesday  \n",
       "8            Moscow  09:17:40     Friday  \n",
       "9  Saint-Petersburg  21:20:49  Wednesday  "
      ]
     },
     "execution_count": 7,
     "metadata": {},
     "output_type": "execute_result"
    }
   ],
   "source": [
    "df.head(10)# получение первых 10 строк таблицы df"
   ]
  },
  {
   "cell_type": "markdown",
   "metadata": {
    "id": "EO73Kwic_Zct"
   },
   "source": [
    "Одной командой получить общую информацию о таблице:"
   ]
  },
  {
   "cell_type": "markdown",
   "metadata": {
    "id": "DSf2kIb-_Zct"
   },
   "source": [
    "df.info# получение общей информации о данных в таблице df"
   ]
  },
  {
   "cell_type": "markdown",
   "metadata": {
    "id": "TaQ2Iwbr_Zct"
   },
   "source": [
    "Итак, в таблице семь столбцов. Тип данных во всех столбцах — `object`.\n",
    "\n",
    "Согласно документации к данным:\n",
    "* `userID` — идентификатор пользователя;\n",
    "* `Track` — название трека;  \n",
    "* `artist` — имя исполнителя;\n",
    "* `genre` — название жанра;\n",
    "* `City` — город пользователя;\n",
    "* `time` — время начала прослушивания;\n",
    "* `Day` — день недели.\n",
    "\n",
    "В названиях колонок видны три нарушения стиля:\n",
    "1. Строчные буквы сочетаются с прописными.\n",
    "2. Встречаются пробелы.\n",
    "3. В названии колонки userID желательно использовать нижнее подчеркивание,чтобы улучшить читаемость.\n",
    "\n",
    "\n",
    "\n",
    "\n",
    "Количество значений в столбцах различается. Значит, в данных есть пропущенные значения.\n"
   ]
  },
  {
   "cell_type": "markdown",
   "metadata": {},
   "source": [
    "<div style=\"border:solid green 2px; padding: 20px\"> \n",
    "    \n",
    "**Комментарий ревьюера**\n",
    "\n",
    "**#ок**\n",
    "\n",
    "Отличное начало, правильно определены проблемы\n",
    "\n",
    "</div>"
   ]
  },
  {
   "cell_type": "markdown",
   "metadata": {
    "id": "MCB6-dXG_Zct"
   },
   "source": [
    "**Выводы**\n",
    "\n",
    "В каждой строке таблицы — данные о прослушанном треке. Часть колонок описывает саму композицию: название, исполнителя и жанр. Остальные данные рассказывают о пользователе: из какого он города, когда он слушал музыку. \n",
    "\n",
    "Предварительно можно утверждать, что, данных достаточно для проверки гипотез. Но встречаются пропуски в данных, а в названиях колонок — расхождения с хорошим стилем.\n",
    "\n",
    "Чтобы двигаться дальше, нужно устранить проблемы в данных."
   ]
  },
  {
   "cell_type": "markdown",
   "metadata": {
    "id": "SjYF6Ub9_Zct"
   },
   "source": [
    "## Предобработка данных\n",
    "Исправьте стиль в заголовках столбцов, исключите пропуски. Затем проверьте данные на дубликаты."
   ]
  },
  {
   "cell_type": "markdown",
   "metadata": {
    "id": "dIaKXr29_Zct"
   },
   "source": [
    "### Стиль заголовков\n",
    "Выведите на экран названия столбцов:"
   ]
  },
  {
   "cell_type": "code",
   "execution_count": 8,
   "metadata": {
    "id": "oKOTdF_Q_Zct"
   },
   "outputs": [
    {
     "data": {
      "text/plain": [
       "Index(['  userID', 'Track', 'artist', 'genre', '  City  ', 'time', 'Day'], dtype='object')"
      ]
     },
     "execution_count": 8,
     "metadata": {},
     "output_type": "execute_result"
    }
   ],
   "source": [
    "df.columns# перечень названий столбцов таблицы df"
   ]
  },
  {
   "cell_type": "markdown",
   "metadata": {
    "id": "zj5534cv_Zct"
   },
   "source": [
    "Приведите названия в соответствие с хорошим стилем:\n",
    "* несколько слов в названии запишите в «змеином_регистре»,\n",
    "* все символы сделайте строчными,\n",
    "* устраните пробелы.\n",
    "\n",
    "Для этого переименуйте колонки так:\n",
    "* `'  userID'` → `user_id`;\n",
    "* `'Track'` → `'track'`;\n",
    "* `'  City  '` → `'city'`;\n",
    "* `'Day'` → `'day'`."
   ]
  },
  {
   "cell_type": "code",
   "execution_count": 9,
   "metadata": {
    "id": "ISlFqs5y_Zct"
   },
   "outputs": [],
   "source": [
    "df = df.rename(columns={'  userID': 'user_id', 'Track': 'track', '  City  ': 'city', 'Day': 'day'}) # переименование столбцов"
   ]
  },
  {
   "cell_type": "markdown",
   "metadata": {
    "id": "1dqbh00J_Zct"
   },
   "source": [
    "Проверьте результат. Для этого ещё раз выведите на экран названия столбцов:"
   ]
  },
  {
   "cell_type": "code",
   "execution_count": 10,
   "metadata": {
    "id": "d4NOAmTW_Zct"
   },
   "outputs": [
    {
     "data": {
      "text/plain": [
       "Index(['user_id', 'track', 'artist', 'genre', 'city', 'time', 'day'], dtype='object')"
      ]
     },
     "execution_count": 10,
     "metadata": {},
     "output_type": "execute_result"
    }
   ],
   "source": [
    "df.columns# проверка результатов - перечень названий столбцов"
   ]
  },
  {
   "cell_type": "markdown",
   "metadata": {},
   "source": [
    "<div style=\"border:solid green 2px; padding: 20px\"> \n",
    "    \n",
    "**Комментарий ревьюера**\n",
    "\n",
    "**#ок**\n",
    "\n",
    "Отлично, все проблемы с названиям решены. \n",
    "\n",
    "print здесь не нужен для вывода\n",
    "\n",
    "</div>"
   ]
  },
  {
   "cell_type": "markdown",
   "metadata": {
    "id": "5ISfbcfY_Zct"
   },
   "source": [
    "### Пропуски значений\n",
    "Сначала посчитайте, сколько в таблице пропущенных значений. Для этого достаточно двух методов `pandas`:"
   ]
  },
  {
   "cell_type": "code",
   "execution_count": 11,
   "metadata": {
    "id": "RskX29qr_Zct"
   },
   "outputs": [
    {
     "name": "stdout",
     "output_type": "stream",
     "text": [
      "user_id       0\n",
      "track      1231\n",
      "artist     7203\n",
      "genre      1198\n",
      "city          0\n",
      "time          0\n",
      "day           0\n",
      "dtype: int64\n"
     ]
    }
   ],
   "source": [
    "print(df.isna().sum()) # подсчёт пропусков"
   ]
  },
  {
   "cell_type": "markdown",
   "metadata": {
    "id": "qubhgnlO_Zct"
   },
   "source": [
    "Не все пропущенные значения влияют на исследование. Так в `track` и `artist` пропуски не важны для вашей работы. Достаточно заменить их явными обозначениями.\n",
    "\n",
    "Но пропуски в `genre` могут помешать сравнению музыкальных вкусов в Москве и Санкт-Петербурге. На практике было бы правильно установить причину пропусков и восстановить данные. Такой возможности нет в учебном проекте. Придётся:\n",
    "* заполнить и эти пропуски явными обозначениями,\n",
    "* оценить, насколько они повредят расчётам. "
   ]
  },
  {
   "cell_type": "markdown",
   "metadata": {
    "id": "fSv2laPA_Zct"
   },
   "source": [
    "Замените пропущенные значения в столбцах `track`, `artist` и `genre` на строку `'unknown'`. Для этого создайте список `columns_to_replace`, переберите его элементы циклом `for` и для каждого столбца выполните замену пропущенных значений:"
   ]
  },
  {
   "cell_type": "code",
   "execution_count": 64,
   "metadata": {
    "id": "KplB5qWs_Zct"
   },
   "outputs": [],
   "source": [
    "for column in df:\n",
    "    df[column] = df[column].fillna('unknown')\n",
    "# перебор названий столбцов в цикле и замена пропущенных значений на 'unknown'"
   ]
  },
  {
   "cell_type": "markdown",
   "metadata": {
    "id": "Ilsm-MZo_Zct"
   },
   "source": [
    "Убедитесь, что в таблице не осталось пропусков. Для этого ещё раз посчитайте пропущенные значения."
   ]
  },
  {
   "cell_type": "code",
   "execution_count": 65,
   "metadata": {
    "id": "Tq4nYRX4_Zct"
   },
   "outputs": [
    {
     "name": "stdout",
     "output_type": "stream",
     "text": [
      "user_id    0\n",
      "track      0\n",
      "artist     0\n",
      "genre      0\n",
      "city       0\n",
      "time       0\n",
      "day        0\n",
      "dtype: int64\n"
     ]
    }
   ],
   "source": [
    "print(df.isna().sum()) # подсчёт пропусков"
   ]
  },
  {
   "cell_type": "markdown",
   "metadata": {},
   "source": [
    "<div style=\"border:solid green 2px; padding: 20px\"> \n",
    "    \n",
    "**Комментарий ревьюера**\n",
    "\n",
    "**#ок**\n",
    "\n",
    "Хорошо, пропуски верно обработаны, правильно использован цикл.\n",
    "\n",
    "Опять же print излишен. Вообще print немного устаревший метод и лучше использовать display. А вывод последней (единственной) строки в ячейке вообще происходит автоматически\n",
    "\n",
    "</div>"
   ]
  },
  {
   "cell_type": "markdown",
   "metadata": {
    "id": "BWKRtBJ3_Zct"
   },
   "source": [
    "### Дубликаты\n",
    "Посчитайте явные дубликаты в таблице одной командой:"
   ]
  },
  {
   "cell_type": "code",
   "execution_count": 14,
   "metadata": {
    "id": "36eES_S0_Zct"
   },
   "outputs": [
    {
     "name": "stdout",
     "output_type": "stream",
     "text": [
      "3826\n"
     ]
    }
   ],
   "source": [
    "print(df.duplicated().sum())# подсчёт явных дубликатов"
   ]
  },
  {
   "cell_type": "markdown",
   "metadata": {
    "id": "Ot25h6XR_Zct"
   },
   "source": [
    "Вызовите специальный метод `pandas`, чтобы удалить явные дубликаты:"
   ]
  },
  {
   "cell_type": "code",
   "execution_count": 15,
   "metadata": {
    "id": "exFHq6tt_Zct"
   },
   "outputs": [],
   "source": [
    "df = df.drop_duplicates().reset_index(drop=True)# удаление явных дубликатов (с удалением старых индексов и формированием новых)"
   ]
  },
  {
   "cell_type": "markdown",
   "metadata": {
    "id": "Im2YwBEG_Zct"
   },
   "source": [
    "Ещё раз посчитайте явные дубликаты в таблице — убедитесь, что полностью от них избавились:"
   ]
  },
  {
   "cell_type": "code",
   "execution_count": 46,
   "metadata": {
    "id": "-8PuNWQ0_Zct"
   },
   "outputs": [
    {
     "name": "stdout",
     "output_type": "stream",
     "text": [
      "Количество явных дубликатов: 0\n"
     ]
    }
   ],
   "source": [
    "print('Количество явных дубликатов:', df.duplicated().sum())# проверка на отсутствие дубликатов"
   ]
  },
  {
   "cell_type": "markdown",
   "metadata": {},
   "source": [
    "<div style=\"border:solid green 2px; padding: 20px\"> \n",
    "    \n",
    "**Комментарий ревьюера**\n",
    "\n",
    "**#ок**\n",
    "\n",
    "Ок, все верно, молодец. Классно разобрались с дубликатами, но стоит подписывать выводимые значения не комментариями в коде, а непосредственно при выводе. Например,\n",
    "    \n",
    "\"Количество явных дубликатов: 3826\"\n",
    "\n",
    "</div>"
   ]
  },
  {
   "cell_type": "markdown",
   "metadata": {
    "id": "QlFBsxAr_Zct"
   },
   "source": [
    "Теперь избавьтесь от неявных дубликатов в колонке `genre`. Например, название одного и того же жанра может быть записано немного по-разному. Такие ошибки тоже повлияют на результат исследования."
   ]
  },
  {
   "cell_type": "markdown",
   "metadata": {
    "id": "eSjWwsOh_Zct"
   },
   "source": [
    "Выведите на экран список уникальных названий жанров, отсортированный в алфавитном порядке. Для этого:\n",
    "* извлеките нужный столбец датафрейма, \n",
    "* примените к нему метод сортировки,\n",
    "* для отсортированного столбца вызовите метод, который вернёт уникальные значения из столбца."
   ]
  },
  {
   "cell_type": "code",
   "execution_count": 17,
   "metadata": {
    "id": "JIUcqzZN_Zct"
   },
   "outputs": [
    {
     "data": {
      "text/plain": [
       "array(['acid', 'acoustic', 'action', 'adult', 'africa', 'afrikaans',\n",
       "       'alternative', 'alternativepunk', 'ambient', 'americana',\n",
       "       'animated', 'anime', 'arabesk', 'arabic', 'arena',\n",
       "       'argentinetango', 'art', 'audiobook', 'author', 'avantgarde',\n",
       "       'axé', 'baile', 'balkan', 'beats', 'bigroom', 'black', 'bluegrass',\n",
       "       'blues', 'bollywood', 'bossa', 'brazilian', 'breakbeat', 'breaks',\n",
       "       'broadway', 'cantautori', 'cantopop', 'canzone', 'caribbean',\n",
       "       'caucasian', 'celtic', 'chamber', 'chanson', 'children', 'chill',\n",
       "       'chinese', 'choral', 'christian', 'christmas', 'classical',\n",
       "       'classicmetal', 'club', 'colombian', 'comedy', 'conjazz',\n",
       "       'contemporary', 'country', 'cuban', 'dance', 'dancehall',\n",
       "       'dancepop', 'dark', 'death', 'deep', 'deutschrock', 'deutschspr',\n",
       "       'dirty', 'disco', 'dnb', 'documentary', 'downbeat', 'downtempo',\n",
       "       'drum', 'dub', 'dubstep', 'eastern', 'easy', 'electronic',\n",
       "       'electropop', 'emo', 'entehno', 'epicmetal', 'estrada', 'ethnic',\n",
       "       'eurofolk', 'european', 'experimental', 'extrememetal', 'fado',\n",
       "       'fairytail', 'film', 'fitness', 'flamenco', 'folk', 'folklore',\n",
       "       'folkmetal', 'folkrock', 'folktronica', 'forró', 'frankreich',\n",
       "       'französisch', 'french', 'funk', 'future', 'gangsta', 'garage',\n",
       "       'german', 'ghazal', 'gitarre', 'glitch', 'gospel', 'gothic',\n",
       "       'grime', 'grunge', 'gypsy', 'handsup', \"hard'n'heavy\", 'hardcore',\n",
       "       'hardstyle', 'hardtechno', 'hip', 'hip-hop', 'hiphop',\n",
       "       'historisch', 'holiday', 'hop', 'horror', 'house', 'hymn', 'idm',\n",
       "       'independent', 'indian', 'indie', 'indipop', 'industrial',\n",
       "       'inspirational', 'instrumental', 'international', 'irish', 'jam',\n",
       "       'japanese', 'jazz', 'jewish', 'jpop', 'jungle', 'k-pop',\n",
       "       'karadeniz', 'karaoke', 'kayokyoku', 'korean', 'laiko', 'latin',\n",
       "       'latino', 'leftfield', 'local', 'lounge', 'loungeelectronic',\n",
       "       'lovers', 'malaysian', 'mandopop', 'marschmusik', 'meditative',\n",
       "       'mediterranean', 'melodic', 'metal', 'metalcore', 'mexican',\n",
       "       'middle', 'minimal', 'miscellaneous', 'modern', 'mood', 'mpb',\n",
       "       'muslim', 'native', 'neoklassik', 'neue', 'new', 'newage',\n",
       "       'newwave', 'nu', 'nujazz', 'numetal', 'oceania', 'old', 'opera',\n",
       "       'orchestral', 'other', 'piano', 'podcasts', 'pop', 'popdance',\n",
       "       'popelectronic', 'popeurodance', 'poprussian', 'post',\n",
       "       'posthardcore', 'postrock', 'power', 'progmetal', 'progressive',\n",
       "       'psychedelic', 'punjabi', 'punk', 'quebecois', 'ragga', 'ram',\n",
       "       'rancheras', 'rap', 'rave', 'reggae', 'reggaeton', 'regional',\n",
       "       'relax', 'religious', 'retro', 'rhythm', 'rnb', 'rnr', 'rock',\n",
       "       'rockabilly', 'rockalternative', 'rockindie', 'rockother',\n",
       "       'romance', 'roots', 'ruspop', 'rusrap', 'rusrock', 'russian',\n",
       "       'salsa', 'samba', 'scenic', 'schlager', 'self', 'sertanejo',\n",
       "       'shanson', 'shoegazing', 'showtunes', 'singer', 'ska', 'skarock',\n",
       "       'slow', 'smooth', 'soft', 'soul', 'soulful', 'sound', 'soundtrack',\n",
       "       'southern', 'specialty', 'speech', 'spiritual', 'sport',\n",
       "       'stonerrock', 'surf', 'swing', 'synthpop', 'synthrock',\n",
       "       'sängerportrait', 'tango', 'tanzorchester', 'taraftar', 'tatar',\n",
       "       'tech', 'techno', 'teen', 'thrash', 'top', 'traditional',\n",
       "       'tradjazz', 'trance', 'tribal', 'trip', 'triphop', 'tropical',\n",
       "       'türk', 'türkçe', 'ukrrock', 'unknown', 'urban', 'uzbek',\n",
       "       'variété', 'vi', 'videogame', 'vocal', 'western', 'world',\n",
       "       'worldbeat', 'ïîï', 'электроника'], dtype=object)"
      ]
     },
     "execution_count": 17,
     "metadata": {},
     "output_type": "execute_result"
    }
   ],
   "source": [
    "df['genre'].sort_values().unique() # Просмотр уникальных названий жанров"
   ]
  },
  {
   "cell_type": "markdown",
   "metadata": {},
   "source": [
    "<div style=\"border:solid gold 2px; padding: 20px\"> \n",
    "    \n",
    "**Комментарий ревьюера**\n",
    "\n",
    "**#можно лучше**\n",
    "\n",
    "Все верно отсортировано. Но более оптимально использовать метод `sort_values()`\n",
    "\n",
    "</div>"
   ]
  },
  {
   "cell_type": "markdown",
   "metadata": {
    "id": "qej-Qmuo_Zct"
   },
   "source": [
    "Просмотрите список и найдите неявные дубликаты названия `hiphop`. Это могут быть названия с ошибками или альтернативные названия того же жанра.\n",
    "\n",
    "Вы увидите следующие неявные дубликаты:\n",
    "* *hip*,\n",
    "* *hop*,\n",
    "* *hip-hop*.\n",
    "\n",
    "Чтобы очистить от них таблицу, напишите функцию `replace_wrong_genres()` с двумя параметрами: \n",
    "* `wrong_genres` — список дубликатов,\n",
    "* `correct_genre` — строка с правильным значением.\n",
    "\n",
    "Функция должна исправить колонку `genre` в таблице `df`: заменить каждое значение из списка `wrong_genres` на значение из `correct_genre`."
   ]
  },
  {
   "cell_type": "code",
   "execution_count": 18,
   "metadata": {
    "id": "ErNDkmns_Zct"
   },
   "outputs": [],
   "source": [
    "def replace_wrong_genres(wrong_genres, correct_genre): # Функция для замены неявных дубликатов\n",
    "    for wrong_genres in wrong_genres: # перебираем неправильные имена\n",
    "        df['genre'] = df['genre'].replace(wrong_genres, correct_genre) # и для каждого неправильного имени вызываем метод replace()\n",
    "\n",
    "wrong_genres = ['hip', 'hop', 'hip-hop'] # список неправильных имён\n",
    "correct_genre = 'hiphop' # правильное имя\n"
   ]
  },
  {
   "cell_type": "markdown",
   "metadata": {
    "id": "aDoBJxbA_Zct"
   },
   "source": [
    "Вызовите `replace_wrong_genres()` и передайте ей такие аргументы, чтобы она устранила неявные дубликаты: вместо `hip`, `hop` и `hip-hop` в таблице должно быть значение `hiphop`:"
   ]
  },
  {
   "cell_type": "code",
   "execution_count": 19,
   "metadata": {
    "id": "YN5i2hpmSo09"
   },
   "outputs": [],
   "source": [
    "replace_wrong_genres(wrong_genres, correct_genre)# Устранение неявных дубликатов"
   ]
  },
  {
   "cell_type": "markdown",
   "metadata": {
    "id": "zQKF16_RG15m"
   },
   "source": [
    "Проверьте, что заменили неправильные названия:\n",
    "\n",
    "*   hip\n",
    "*   hop\n",
    "*   hip-hop\n",
    "\n",
    "Выведите отсортированный список уникальных значений столбца `genre`:"
   ]
  },
  {
   "cell_type": "code",
   "execution_count": 20,
   "metadata": {
    "id": "wvixALnFG15m"
   },
   "outputs": [
    {
     "name": "stdout",
     "output_type": "stream",
     "text": [
      "['acid', 'acoustic', 'action', 'adult', 'africa', 'afrikaans', 'alternative', 'alternativepunk', 'ambient', 'americana', 'animated', 'anime', 'arabesk', 'arabic', 'arena', 'argentinetango', 'art', 'audiobook', 'author', 'avantgarde', 'axé', 'baile', 'balkan', 'beats', 'bigroom', 'black', 'bluegrass', 'blues', 'bollywood', 'bossa', 'brazilian', 'breakbeat', 'breaks', 'broadway', 'cantautori', 'cantopop', 'canzone', 'caribbean', 'caucasian', 'celtic', 'chamber', 'chanson', 'children', 'chill', 'chinese', 'choral', 'christian', 'christmas', 'classical', 'classicmetal', 'club', 'colombian', 'comedy', 'conjazz', 'contemporary', 'country', 'cuban', 'dance', 'dancehall', 'dancepop', 'dark', 'death', 'deep', 'deutschrock', 'deutschspr', 'dirty', 'disco', 'dnb', 'documentary', 'downbeat', 'downtempo', 'drum', 'dub', 'dubstep', 'eastern', 'easy', 'electronic', 'electropop', 'emo', 'entehno', 'epicmetal', 'estrada', 'ethnic', 'eurofolk', 'european', 'experimental', 'extrememetal', 'fado', 'fairytail', 'film', 'fitness', 'flamenco', 'folk', 'folklore', 'folkmetal', 'folkrock', 'folktronica', 'forró', 'frankreich', 'französisch', 'french', 'funk', 'future', 'gangsta', 'garage', 'german', 'ghazal', 'gitarre', 'glitch', 'gospel', 'gothic', 'grime', 'grunge', 'gypsy', 'handsup', \"hard'n'heavy\", 'hardcore', 'hardstyle', 'hardtechno', 'hiphop', 'historisch', 'holiday', 'horror', 'house', 'hymn', 'idm', 'independent', 'indian', 'indie', 'indipop', 'industrial', 'inspirational', 'instrumental', 'international', 'irish', 'jam', 'japanese', 'jazz', 'jewish', 'jpop', 'jungle', 'k-pop', 'karadeniz', 'karaoke', 'kayokyoku', 'korean', 'laiko', 'latin', 'latino', 'leftfield', 'local', 'lounge', 'loungeelectronic', 'lovers', 'malaysian', 'mandopop', 'marschmusik', 'meditative', 'mediterranean', 'melodic', 'metal', 'metalcore', 'mexican', 'middle', 'minimal', 'miscellaneous', 'modern', 'mood', 'mpb', 'muslim', 'native', 'neoklassik', 'neue', 'new', 'newage', 'newwave', 'nu', 'nujazz', 'numetal', 'oceania', 'old', 'opera', 'orchestral', 'other', 'piano', 'podcasts', 'pop', 'popdance', 'popelectronic', 'popeurodance', 'poprussian', 'post', 'posthardcore', 'postrock', 'power', 'progmetal', 'progressive', 'psychedelic', 'punjabi', 'punk', 'quebecois', 'ragga', 'ram', 'rancheras', 'rap', 'rave', 'reggae', 'reggaeton', 'regional', 'relax', 'religious', 'retro', 'rhythm', 'rnb', 'rnr', 'rock', 'rockabilly', 'rockalternative', 'rockindie', 'rockother', 'romance', 'roots', 'ruspop', 'rusrap', 'rusrock', 'russian', 'salsa', 'samba', 'scenic', 'schlager', 'self', 'sertanejo', 'shanson', 'shoegazing', 'showtunes', 'singer', 'ska', 'skarock', 'slow', 'smooth', 'soft', 'soul', 'soulful', 'sound', 'soundtrack', 'southern', 'specialty', 'speech', 'spiritual', 'sport', 'stonerrock', 'surf', 'swing', 'synthpop', 'synthrock', 'sängerportrait', 'tango', 'tanzorchester', 'taraftar', 'tatar', 'tech', 'techno', 'teen', 'thrash', 'top', 'traditional', 'tradjazz', 'trance', 'tribal', 'trip', 'triphop', 'tropical', 'türk', 'türkçe', 'ukrrock', 'unknown', 'urban', 'uzbek', 'variété', 'vi', 'videogame', 'vocal', 'western', 'world', 'worldbeat', 'ïîï', 'электроника']\n"
     ]
    }
   ],
   "source": [
    "df.sort_values(df['genre'].unique())# Проверка на неявные дубликаты"
   ]
  },
  {
   "cell_type": "markdown",
   "metadata": {
    "id": "jz6a9-7HQUDd"
   },
   "source": [
    "**Выводы**\n",
    "\n",
    "Предобработка обнаружила три проблемы в данных:\n",
    "\n",
    "- нарушения в стиле заголовков,\n",
    "- пропущенные значения,\n",
    "- дубликаты — явные и неявные.\n",
    "\n",
    "Вы исправили заголовки, чтобы упростить работу с таблицей. Без дубликатов исследование станет более точным.\n",
    "\n",
    "Пропущенные значения вы заменили на `'unknown'`. Ещё предстоит увидеть, не повредят ли исследованию пропуски в колонке `genre`.\n",
    "\n",
    "Теперь можно перейти к проверке гипотез. "
   ]
  },
  {
   "cell_type": "markdown",
   "metadata": {},
   "source": [
    "<div style=\"border:solid green 2px; padding: 20px\"> \n",
    "    \n",
    "**Комментарий ревьюера**\n",
    "\n",
    "**#ок**\n",
    "\n",
    "Ок, жанры поправили.  если посмотреть в названиях есть и другие ошибки, но это уже сверх задания\n",
    "    \n",
    "</div>"
   ]
  },
  {
   "cell_type": "markdown",
   "metadata": {
    "id": "WttZHXH0SqKk"
   },
   "source": [
    "## Проверка гипотез"
   ]
  },
  {
   "cell_type": "markdown",
   "metadata": {
    "id": "Im936VVi_Zcu"
   },
   "source": [
    "### Сравнение поведения пользователей двух столиц"
   ]
  },
  {
   "cell_type": "markdown",
   "metadata": {
    "id": "nwt_MuaL_Zcu"
   },
   "source": [
    "Первая гипотеза утверждает, что пользователи по-разному слушают музыку в Москве и Санкт-Петербурге. Проверьте это предположение по данным о трёх днях недели — понедельнике, среде и пятнице. Для этого:\n",
    "\n",
    "* Разделите пользователей Москвы и Санкт-Петербурга\n",
    "* Сравните, сколько треков послушала каждая группа пользователей в понедельник, среду и пятницу.\n"
   ]
  },
  {
   "cell_type": "markdown",
   "metadata": {
    "id": "8Dw_YMmT_Zcu"
   },
   "source": [
    "Для тренировки сначала выполните каждый из расчётов по отдельности. \n",
    "\n",
    "Оцените активность пользователей в каждом городе. Сгруппируйте данные по городу и посчитайте прослушивания в каждой группе.\n",
    "\n"
   ]
  },
  {
   "cell_type": "code",
   "execution_count": 21,
   "metadata": {
    "id": "0_Qs96oh_Zcu"
   },
   "outputs": [
    {
     "name": "stdout",
     "output_type": "stream",
     "text": [
      "city\n",
      "Moscow              42741\n",
      "Saint-Petersburg    18512\n",
      "Name: track, dtype: int64\n"
     ]
    }
   ],
   "source": [
    "print(df.groupby('city')['track'].count())   # Подсчёт прослушиваний в городах                   "
   ]
  },
  {
   "cell_type": "markdown",
   "metadata": {
    "id": "dzli3w8o_Zcu"
   },
   "source": [
    "В Москве прослушиваний больше, чем в Петербурге. Из этого не следует, что московские пользователи чаще слушают музыку. Просто самих пользователей в Москве больше.\n",
    "\n",
    "Теперь сгруппируйте данные по дню недели и подсчитайте прослушивания в понедельник, среду и пятницу. Учтите, что в данных есть информация только о прослушиваниях только за эти дни.\n"
   ]
  },
  {
   "cell_type": "code",
   "execution_count": 22,
   "metadata": {
    "id": "uZMKjiJz_Zcu"
   },
   "outputs": [
    {
     "name": "stdout",
     "output_type": "stream",
     "text": [
      "day\n",
      "Friday       21840\n",
      "Monday       21354\n",
      "Wednesday    18059\n",
      "Name: track, dtype: int64\n"
     ]
    }
   ],
   "source": [
    "print(df.groupby('day')['track'].count()) # Подсчёт прослушиваний в каждый из трёх дней"
   ]
  },
  {
   "cell_type": "markdown",
   "metadata": {},
   "source": [
    "<div style=\"border:solid green 2px; padding: 20px\"> \n",
    "    \n",
    "**Комментарий ревьюера**\n",
    "\n",
    "**#ок**\n",
    "\n",
    "Молодец, правильно использовал groupby\n",
    "    \n",
    "</div>"
   ]
  },
  {
   "cell_type": "markdown",
   "metadata": {
    "id": "cC2tNrlL_Zcu"
   },
   "source": [
    "В среднем пользователи из двух городов менее активны по средам. Но картина может измениться, если рассмотреть каждый город в отдельности."
   ]
  },
  {
   "cell_type": "markdown",
   "metadata": {
    "id": "POzs8bGa_Zcu"
   },
   "source": [
    "Вы видели, как работает группировка по городу и по дням недели. Теперь напишите функцию, которая объединит два эти расчёта.\n",
    "\n",
    "Создайте функцию `number_tracks()`, которая посчитает прослушивания для заданного дня и города. Ей понадобятся два параметра:\n",
    "* день недели,\n",
    "* название города.\n",
    "\n",
    "В функции сохраните в переменную строки исходной таблицы, у которых значение:\n",
    "  * в колонке `day` равно параметру `day`,\n",
    "  * в колонке `city` равно параметру `city`.\n",
    "\n",
    "Для этого примените последовательную фильтрацию с логической индексацией.\n",
    "\n",
    "Затем посчитайте значения в столбце `user_id` получившейся таблицы. Результат сохраните в новую переменную. Верните эту переменную из функции."
   ]
  },
  {
   "cell_type": "code",
   "execution_count": 23,
   "metadata": {
    "id": "Nz3GdQB1_Zcu"
   },
   "outputs": [],
   "source": [
    "# <создание функции number_tracks()>\n",
    "\n",
    "def number_tracks(day, city):   # Объявляется функция с двумя параметрами: day, city.\n",
    "    \n",
    "    track_list = df[df['day'] == day]\n",
    "    track_list = track_list[track_list['city'] == city] \n",
    "\n",
    "# В переменной track_list сохраняются те строки таблицы df, для которых \n",
    "# значение в столбце 'day' равно параметру day и одновременно значение в столбце 'city' равно параметру city \n",
    "#(используйте последовательную фильтрацию с помощью логической индексации).\n",
    "    \n",
    "    track_list_count = track_list.groupby('city')['user_id'].count() \n",
    "\n",
    "# В переменной track_list_count сохраняется число значений столбца 'user_id',\n",
    "# рассчитанное методом count() для таблицы track_list.\n",
    "\n",
    "    return track_list_count # Функция возвращает число - значение track_list_count.\n",
    "\n",
    "# Функция для подсчёта прослушиваний для конкретного города и дня.\n",
    "# С помощью последовательной фильтрации с логической индексацией она \n",
    "# сначала получит из исходной таблицы строки с нужным днём,\n",
    "# затем из результата отфильтрует строки с нужным городом,\n",
    "# методом count() посчитает количество значений в колонке user_id. \n",
    "# Это количество функция вернёт в качестве результата"
   ]
  },
  {
   "cell_type": "markdown",
   "metadata": {},
   "source": [
    "<div style=\"border:solid gold 2px; padding: 20px\"> \n",
    "    \n",
    "**Комментарий ревьюера**\n",
    "\n",
    "**#можно лучше**\n",
    "\n",
    "Вообще предполагается, что результатом этой функции будет одно число, тогда ее можно использовать, например, для заполнения датасэта далее.\n",
    "Лучше не делать groupby. а просто посчитать \n",
    "\n",
    "    track_list_count = track_list['user_id'].count()\n",
    "\n",
    "</div>"
   ]
  },
  {
   "cell_type": "markdown",
   "metadata": {
    "id": "ytf7xFrFJQ2r"
   },
   "source": [
    "Вызовите `number_tracks()` шесть раз, меняя значение параметров — так, чтобы получить данные для каждого города в каждый из трёх дней."
   ]
  },
  {
   "cell_type": "code",
   "execution_count": 24,
   "metadata": {
    "id": "rJcRATNQ_Zcu"
   },
   "outputs": [
    {
     "data": {
      "text/plain": [
       "city\n",
       "Moscow    15740\n",
       "Name: user_id, dtype: int64"
      ]
     },
     "execution_count": 24,
     "metadata": {},
     "output_type": "execute_result"
    }
   ],
   "source": [
    "number_tracks('Monday', 'Moscow')# количество прослушиваний в Москве по понедельникам"
   ]
  },
  {
   "cell_type": "code",
   "execution_count": 25,
   "metadata": {
    "id": "hq_ncZ5T_Zcu"
   },
   "outputs": [
    {
     "data": {
      "text/plain": [
       "city\n",
       "Saint-Petersburg    5614\n",
       "Name: user_id, dtype: int64"
      ]
     },
     "execution_count": 25,
     "metadata": {},
     "output_type": "execute_result"
    }
   ],
   "source": [
    "number_tracks('Monday', 'Saint-Petersburg')# количество прослушиваний в Санкт-Петербурге по понедельникам"
   ]
  },
  {
   "cell_type": "code",
   "execution_count": 26,
   "metadata": {
    "id": "_NTy2VPU_Zcu"
   },
   "outputs": [
    {
     "data": {
      "text/plain": [
       "city\n",
       "Moscow    11056\n",
       "Name: user_id, dtype: int64"
      ]
     },
     "execution_count": 26,
     "metadata": {},
     "output_type": "execute_result"
    }
   ],
   "source": [
    "number_tracks('Wednesday', 'Moscow')# количество прослушиваний в Москве по средам"
   ]
  },
  {
   "cell_type": "code",
   "execution_count": 27,
   "metadata": {
    "id": "j2y3TAwo_Zcu"
   },
   "outputs": [
    {
     "data": {
      "text/plain": [
       "city\n",
       "Saint-Petersburg    7003\n",
       "Name: user_id, dtype: int64"
      ]
     },
     "execution_count": 27,
     "metadata": {},
     "output_type": "execute_result"
    }
   ],
   "source": [
    "number_tracks('Wednesday', 'Saint-Petersburg')# количество прослушиваний в Санкт-Петербурге по средам"
   ]
  },
  {
   "cell_type": "code",
   "execution_count": 28,
   "metadata": {
    "id": "vYDw5u_K_Zcu"
   },
   "outputs": [
    {
     "data": {
      "text/plain": [
       "city\n",
       "Moscow    15945\n",
       "Name: user_id, dtype: int64"
      ]
     },
     "execution_count": 28,
     "metadata": {},
     "output_type": "execute_result"
    }
   ],
   "source": [
    "number_tracks('Friday', 'Moscow')# количество прослушиваний в Москве по пятницам"
   ]
  },
  {
   "cell_type": "code",
   "execution_count": 29,
   "metadata": {
    "id": "8_yzFtW3_Zcu"
   },
   "outputs": [
    {
     "data": {
      "text/plain": [
       "city\n",
       "Saint-Petersburg    5895\n",
       "Name: user_id, dtype: int64"
      ]
     },
     "execution_count": 29,
     "metadata": {},
     "output_type": "execute_result"
    }
   ],
   "source": [
    "number_tracks('Friday', 'Saint-Petersburg')# количество прослушиваний в Санкт-Петербурге по пятницам"
   ]
  },
  {
   "cell_type": "markdown",
   "metadata": {
    "id": "7QXffbO-_Zcu"
   },
   "source": [
    "Создайте c помощью конструктора `pd.DataFrame` таблицу, где\n",
    "* названия колонок — `['city', 'monday', 'wednesday', 'friday']`;\n",
    "* данные — результаты, которые вы получили с помощью `number_tracks`."
   ]
  },
  {
   "cell_type": "code",
   "execution_count": 30,
   "metadata": {
    "id": "APAcLpOr_Zcu"
   },
   "outputs": [
    {
     "name": "stdout",
     "output_type": "stream",
     "text": [
      "               City  Monday  Wednesday  Friday\n",
      "0            Moscow   15740      11056   15945\n",
      "1  Saint-Petersburg    5614       7003    5895\n"
     ]
    }
   ],
   "source": [
    "number_tracks = [\n",
    "    ['Moscow', 15740, 11056, 15945],\n",
    "    ['Saint-Petersburg', 5614, 7003, 5895],\n",
    "]\n",
    "\n",
    "columns = ['City', 'Monday', 'Wednesday', 'Friday']\n",
    "\n",
    "print (pd.DataFrame(data = number_tracks , columns = columns)) # Таблица с результатами\n",
    "\n",
    "\n"
   ]
  },
  {
   "cell_type": "markdown",
   "metadata": {},
   "source": [
    "\n",
    "<div style=\"border:solid green 2px; padding: 20px\"> \n",
    "    \n",
    "**Комментарий ревьюера**\n",
    "\n",
    "**#ок**\n",
    "\n",
    "Таблица верно собрана.\n",
    "</div>"
   ]
  },
  {
   "cell_type": "markdown",
   "metadata": {
    "id": "-EgPIHYu_Zcu"
   },
   "source": [
    "**Выводы**\n",
    "\n",
    "Данные показывают разницу поведения пользователей:\n",
    "\n",
    "- В Москве пик прослушиваний приходится на понедельник и пятницу, а в среду заметен спад.\n",
    "- В Петербурге, наоборот, больше слушают музыку по средам. Активность в понедельник и пятницу здесь почти в равной мере уступает среде.\n",
    "\n",
    "Значит, данные говорят в пользу первой гипотезы."
   ]
  },
  {
   "cell_type": "markdown",
   "metadata": {
    "id": "atZAxtq4_Zcu"
   },
   "source": [
    "### Музыка в начале и в конце недели"
   ]
  },
  {
   "cell_type": "markdown",
   "metadata": {
    "id": "eXrQqXFH_Zcu"
   },
   "source": [
    "Согласно второй гипотезе, утром в понедельник в Москве преобладают одни жанры, а в Петербурге — другие. Так же и вечером пятницы преобладают разные жанры — в зависимости от города."
   ]
  },
  {
   "cell_type": "markdown",
   "metadata": {
    "id": "S8UcW6Hw_Zcu"
   },
   "source": [
    "Сохраните таблицы с данными в две переменные:\n",
    "* по Москве — в `moscow_general`;\n",
    "* по Санкт-Петербургу — в `spb_general`."
   ]
  },
  {
   "cell_type": "code",
   "execution_count": 31,
   "metadata": {
    "id": "qeaFfM_P_Zcu"
   },
   "outputs": [],
   "source": [
    "moscow_general = df[df['city'] == 'Moscow']\n",
    "\n",
    "# получение таблицы moscow_general из тех строк таблицы df, \n",
    "# для которых значение в столбце 'city' равно 'Moscow'\n"
   ]
  },
  {
   "cell_type": "code",
   "execution_count": 32,
   "metadata": {
    "id": "ORaVRKto_Zcu"
   },
   "outputs": [],
   "source": [
    "spb_general = df[df['city'] == 'Saint-Petersburg']\n",
    "\n",
    "# получение таблицы spb_general из тех строк таблицы df,\n",
    "# для которых значение в столбце 'city' равно 'Saint-Petersburg'\n"
   ]
  },
  {
   "cell_type": "markdown",
   "metadata": {
    "id": "MEJV-CX2_Zcu"
   },
   "source": [
    "Создайте функцию `genre_weekday()` с четырьмя параметрами:\n",
    "* таблица (датафрейм) с данными,\n",
    "* день недели,\n",
    "* начальная временная метка в формате 'hh:mm', \n",
    "* последняя временная метка в формате 'hh:mm'.\n",
    "\n",
    "Функция должна вернуть информацию о топ-10 жанров тех треков, которые прослушивали в указанный день, в промежутке между двумя отметками времени."
   ]
  },
  {
   "cell_type": "code",
   "execution_count": 33,
   "metadata": {
    "id": "laJT9BYl_Zcu"
   },
   "outputs": [],
   "source": [
    "def genre_weekday(table, day, time1, time2):\n",
    "\n",
    "# Объявление функции genre_weekday() с параметрами table, day, time1, time2,\n",
    "# которая возвращает информацию о самых популярных жанрах в указанный день в\n",
    "# заданное время:\n",
    "      \n",
    "    genre_df = table[table['day'] == day]\n",
    "    genre_df = genre_df[genre_df['time'] > time1] \n",
    "    genre_df = genre_df[genre_df['time'] < time2] \n",
    "\n",
    "    # 1) в переменную genre_df сохраняются те строки переданного датафрейма table, для\n",
    "#    которых одновременно:\n",
    "#    - значение в столбце day равно значению аргумента day\n",
    "#    - значение в столбце time больше значения аргумента time1\n",
    "#    - значение в столбце time меньше значения аргумента time2\n",
    "#    Используйте последовательную фильтрацию с помощью логической индексации.\n",
    "\n",
    "    genre_df_count = genre_df.groupby('genre')['user_id'].count()\n",
    "    \n",
    "# 2) сгруппировать датафрейм genre_df по столбцу genre, взять один из его\n",
    "#    столбцов и посчитать методом count() количество записей для каждого из\n",
    "#    присутствующих жанров, получившийся Series записать в переменную\n",
    "#    genre_df_count\n",
    "\n",
    "    genre_df_sorted = genre_df_count.sort_values(ascending=False)\n",
    "   \n",
    "    \n",
    "# 3) отсортировать genre_df_count по убыванию встречаемости и сохранить\n",
    "#    в переменную genre_df_sorted\n",
    "\n",
    "\n",
    "    return genre_df_sorted.head(10)\n",
    "\n",
    "# 4) вернуть Series из 10 первых значений genre_df_sorted, это будут топ-10\n",
    "#    популярных жанров (в указанный день, в заданное время)"
   ]
  },
  {
   "cell_type": "markdown",
   "metadata": {
    "id": "la2s2_PF_Zcu"
   },
   "source": [
    "Cравните результаты функции `genre_weekday()` для Москвы и Санкт-Петербурга в понедельник утром (с 7:00 до 11:00) и в пятницу вечером (с 17:00 до 23:00):"
   ]
  },
  {
   "cell_type": "code",
   "execution_count": 34,
   "metadata": {
    "id": "yz7itPUQ_Zcu"
   },
   "outputs": [
    {
     "data": {
      "text/plain": [
       "genre\n",
       "pop            781\n",
       "dance          549\n",
       "electronic     480\n",
       "rock           474\n",
       "hiphop         286\n",
       "ruspop         186\n",
       "world          181\n",
       "rusrap         175\n",
       "alternative    164\n",
       "unknown        161\n",
       "Name: user_id, dtype: int64"
      ]
     },
     "execution_count": 34,
     "metadata": {},
     "output_type": "execute_result"
    }
   ],
   "source": [
    "genre_weekday(moscow_general, 'Monday', '07:00', '11:00')\n",
    "\n",
    "# вызов функции для утра понедельника в Москве (вместо df — таблица moscow_general)\n",
    "# объекты, хранящие время, являются строками и сравниваются как строки\n",
    "# пример вызова: genre_weekday(moscow_general, 'Monday', '07:00', '11:00')"
   ]
  },
  {
   "cell_type": "code",
   "execution_count": 35,
   "metadata": {
    "id": "kwUcHPdy_Zcu"
   },
   "outputs": [
    {
     "data": {
      "text/plain": [
       "genre\n",
       "pop            218\n",
       "dance          182\n",
       "rock           162\n",
       "electronic     147\n",
       "hiphop          80\n",
       "ruspop          64\n",
       "alternative     58\n",
       "rusrap          55\n",
       "jazz            44\n",
       "classical       40\n",
       "Name: user_id, dtype: int64"
      ]
     },
     "execution_count": 35,
     "metadata": {},
     "output_type": "execute_result"
    }
   ],
   "source": [
    "genre_weekday(spb_general, 'Monday', '07:00', '11:00')\n",
    "\n",
    "# вызов функции для утра понедельника в Петербурге (вместо df — таблица spb_general)"
   ]
  },
  {
   "cell_type": "code",
   "execution_count": 36,
   "metadata": {
    "id": "EzXVRE1o_Zcu"
   },
   "outputs": [
    {
     "data": {
      "text/plain": [
       "genre\n",
       "pop            713\n",
       "rock           517\n",
       "dance          495\n",
       "electronic     482\n",
       "hiphop         273\n",
       "world          208\n",
       "ruspop         170\n",
       "alternative    163\n",
       "classical      163\n",
       "rusrap         142\n",
       "Name: user_id, dtype: int64"
      ]
     },
     "execution_count": 36,
     "metadata": {},
     "output_type": "execute_result"
    }
   ],
   "source": [
    "genre_weekday(moscow_general, 'Friday', '17:00', '23:00')\n",
    "\n",
    "# вызов функции для вечера пятницы в Москве"
   ]
  },
  {
   "cell_type": "code",
   "execution_count": 37,
   "metadata": {
    "id": "JZaEKu5v_Zcu"
   },
   "outputs": [
    {
     "data": {
      "text/plain": [
       "genre\n",
       "pop            256\n",
       "rock           216\n",
       "electronic     216\n",
       "dance          210\n",
       "hiphop          97\n",
       "alternative     63\n",
       "jazz            61\n",
       "classical       60\n",
       "rusrap          59\n",
       "world           54\n",
       "Name: user_id, dtype: int64"
      ]
     },
     "execution_count": 37,
     "metadata": {},
     "output_type": "execute_result"
    }
   ],
   "source": [
    "genre_weekday(spb_general, 'Friday', '17:00', '23:00')\n",
    "\n",
    "# вызов функции для вечера пятницы в Петербурге"
   ]
  },
  {
   "cell_type": "markdown",
   "metadata": {},
   "source": [
    "<div style=\"border:solid green 2px; padding: 20px\"> \n",
    "    \n",
    "**Комментарий ревьюера**\n",
    "\n",
    "**#ок**\n",
    "\n",
    "Ок, функция написана верно и результат нужный получен\n",
    "\n",
    "</div>"
   ]
  },
  {
   "cell_type": "markdown",
   "metadata": {
    "id": "wrCe4MNX_Zcu"
   },
   "source": [
    "**Выводы**\n",
    "\n",
    "Если сравнить топ-10 жанров в понедельник утром, можно сделать такие выводы:\n",
    "\n",
    "1. В Москве и Петербурге слушают похожую музыку. Единственное отличие — в московский рейтинг вошёл жанр “world”, а в петербургский — джаз и классика.\n",
    "\n",
    "2. В Москве пропущенных значений оказалось так много, что значение `'unknown'` заняло десятое место среди самых популярных жанров. Значит, пропущенные значения занимают существенную долю в данных и угрожают достоверности исследования.\n",
    "\n",
    "Вечер пятницы не меняет эту картину. Некоторые жанры поднимаются немного выше, другие спускаются, но в целом топ-10 остаётся тем же самым.\n",
    "\n",
    "Таким образом, вторая гипотеза подтвердилась лишь частично:\n",
    "* Пользователи слушают похожую музыку в начале недели и в конце.\n",
    "* Разница между Москвой и Петербургом не слишком выражена. В Москве чаще слушают русскую популярную музыку, в Петербурге — джаз.\n",
    "\n",
    "Однако пропуски в данных ставят под сомнение этот результат. В Москве их так много, что рейтинг топ-10 мог бы выглядеть иначе, если бы не утерянные  данные о жанрах."
   ]
  },
  {
   "cell_type": "markdown",
   "metadata": {
    "id": "JolODAqr_Zcu"
   },
   "source": [
    "### Жанровые предпочтения в Москве и Петербурге\n",
    "\n",
    "Гипотеза: Петербург — столица рэпа, музыку этого жанра там слушают чаще, чем в Москве.  А Москва — город контрастов, в котором, тем не менее, преобладает поп-музыка."
   ]
  },
  {
   "cell_type": "markdown",
   "metadata": {
    "id": "DlegSvaT_Zcu"
   },
   "source": [
    "Сгруппируйте таблицу `moscow_general` по жанру и посчитайте прослушивания треков каждого жанра методом `count()`. Затем отсортируйте результат в порядке убывания и сохраните его в таблице `moscow_genres`."
   ]
  },
  {
   "cell_type": "code",
   "execution_count": 38,
   "metadata": {
    "id": "r19lIPke_Zcu"
   },
   "outputs": [],
   "source": [
    "moscow_genres = moscow_general.groupby('genre')['genre'].count().sort_values(ascending=False)\n",
    "\n",
    "\n",
    "# одной строкой: группировка таблицы moscow_general по столбцу 'genre', \n",
    "# подсчёт числа значений 'genre' в этой группировке методом count(), \n",
    "# сортировка получившегося Series в порядке убывания и сохранение в moscow_genres"
   ]
  },
  {
   "cell_type": "markdown",
   "metadata": {
    "id": "6kMuomxTiIr8"
   },
   "source": [
    "Выведите на экран первые десять строк `moscow_genres`:"
   ]
  },
  {
   "cell_type": "code",
   "execution_count": 39,
   "metadata": {
    "id": "WhCSooF8_Zcv"
   },
   "outputs": [
    {
     "name": "stdout",
     "output_type": "stream",
     "text": [
      "genre\n",
      "pop            5892\n",
      "dance          4435\n",
      "rock           3965\n",
      "electronic     3786\n",
      "hiphop         2096\n",
      "classical      1616\n",
      "world          1432\n",
      "alternative    1379\n",
      "ruspop         1372\n",
      "rusrap         1161\n",
      "Name: genre, dtype: int64\n"
     ]
    }
   ],
   "source": [
    "print(moscow_genres.head(10))# просмотр первых 10 строк moscow_genres"
   ]
  },
  {
   "cell_type": "markdown",
   "metadata": {
    "id": "cnPG2vnN_Zcv"
   },
   "source": [
    "Теперь повторите то же и для Петербурга.\n",
    "\n",
    "Сгруппируйте таблицу `spb_general` по жанру. Посчитайте прослушивания треков каждого жанра. Результат отсортируйте в порядке убывания и сохраните в таблице `spb_genres`:\n"
   ]
  },
  {
   "cell_type": "code",
   "execution_count": 40,
   "metadata": {
    "id": "gluLIpE7_Zcv"
   },
   "outputs": [],
   "source": [
    "spb_genres = spb_general.groupby('genre')['genre'].count().sort_values(ascending=False)\n",
    "\n",
    "# одной строкой: группировка таблицы spb_general по столбцу 'genre', \n",
    "# подсчёт числа значений 'genre' в этой группировке методом count(), \n",
    "# сортировка получившегося Series в порядке убывания и сохранение в spb_genres"
   ]
  },
  {
   "cell_type": "markdown",
   "metadata": {
    "id": "5Doha_ODgyQ8"
   },
   "source": [
    "Выведите на экран первые десять строк `spb_genres`:"
   ]
  },
  {
   "cell_type": "code",
   "execution_count": 41,
   "metadata": {
    "id": "uaGJHjVU_Zcv"
   },
   "outputs": [
    {
     "name": "stdout",
     "output_type": "stream",
     "text": [
      "genre\n",
      "pop            2431\n",
      "dance          1932\n",
      "rock           1879\n",
      "electronic     1736\n",
      "hiphop          960\n",
      "alternative     649\n",
      "classical       646\n",
      "rusrap          564\n",
      "ruspop          538\n",
      "world           515\n",
      "Name: genre, dtype: int64\n"
     ]
    }
   ],
   "source": [
    "print(spb_genres.head(10)) \n",
    "# просмотр первых 10 строк spb_genres"
   ]
  },
  {
   "cell_type": "markdown",
   "metadata": {
    "id": "RY51YJYu_Zcv"
   },
   "source": [
    "**Выводы**"
   ]
  },
  {
   "cell_type": "markdown",
   "metadata": {
    "id": "nVhnJEm__Zcv"
   },
   "source": [
    "Гипотеза частично подтвердилась:\n",
    "* Поп-музыка — самый популярный жанр в Москве, как и предполагала гипотеза. Более того, в топ-10 жанров встречается близкий жанр — русская популярная музыка.\n",
    "* Вопреки ожиданиям, рэп одинаково популярен в Москве и Петербурге. \n"
   ]
  },
  {
   "cell_type": "markdown",
   "metadata": {},
   "source": [
    "<div style=\"border:solid green 2px; padding: 20px\"> \n",
    "    \n",
    "**Комментарий ревьюера**\n",
    "\n",
    "**#ок**\n",
    "\n",
    "В этой части тоже все верно\n",
    "\n",
    "</div>"
   ]
  },
  {
   "cell_type": "markdown",
   "metadata": {
    "id": "ykKQ0N65_Zcv"
   },
   "source": [
    "## Итоги исследования"
   ]
  },
  {
   "cell_type": "markdown",
   "metadata": {
    "id": "tjUwbHb3_Zcv"
   },
   "source": [
    "Вы проверили три гипотезы и установили:\n",
    "\n",
    "1. День недели по-разному влияет на активность пользователей в Москве и Петербурге. \n",
    "\n",
    "Первая гипотеза полностью подтвердилась.\n",
    "\n",
    "2. Музыкальные предпочтения не сильно меняются в течение недели — будь то Москва или Петербург. Небольшие различия заметны в начале недели, по понедельникам:\n",
    "* в Москве слушают музыку жанра “world”,\n",
    "* в Петербурге — джаз и классику.\n",
    "\n",
    "Таким образом, вторая гипотеза подтвердилась лишь отчасти. Этот результат мог оказаться иным, если бы не пропуски в данных.\n",
    "\n",
    "3. Во вкусах пользователей Москвы и Петербурга больше общего чем различий. Вопреки ожиданиям, предпочтения жанров в Петербурге напоминают московские.\n",
    "\n",
    "Третья гипотеза не подтвердилась. Если различия в предпочтениях и существуют, на основной массе пользователей они незаметны.\n",
    "\n",
    "**На практике исследования содержат проверки статистических гипотез.**\n",
    "Из данных одного сервиса не всегда можно сделать вывод о всех жителях города.\n",
    "Проверки статистических гипотез покажут, насколько они достоверны, исходя из имеющихся данных. \n",
    "С методами проверок гипотез вы ещё познакомитесь в следующих темах."
   ]
  },
  {
   "cell_type": "markdown",
   "metadata": {},
   "source": [
    "<div style=\"border:solid green 2px; padding: 20px\"> \n",
    "    \n",
    "**Общий комментарий по проекту**\n",
    "\n",
    "Ты отлично поработала над проектом, хороший первый самостоятельный проект.\n",
    "    \n",
    "\n",
    "Ты хорошо идешь по программе и уже освоила много полезных методов. Многие пробелы в python, если они были, теперь закрыты. Дальше все будет интереснее и сложнее. \n",
    "    \n",
    "Удачи.\n",
    "    \n",
    "Критических замечаний нет. Отправляю тебе проект, чтобы ты могла задать вопросы. Если вопросов нет, пришли мне его обратно, я его приму.\n",
    "</div>"
   ]
  },
  {
   "cell_type": "code",
   "execution_count": null,
   "metadata": {},
   "outputs": [],
   "source": []
  },
  {
   "cell_type": "code",
   "execution_count": null,
   "metadata": {},
   "outputs": [],
   "source": []
  }
 ],
 "metadata": {
  "ExecuteTimeLog": [
   {
    "duration": 64,
    "start_time": "2021-12-20T11:15:02.539Z"
   },
   {
    "duration": 497,
    "start_time": "2021-12-20T11:15:10.352Z"
   },
   {
    "duration": 1783,
    "start_time": "2021-12-20T11:15:15.457Z"
   },
   {
    "duration": 522,
    "start_time": "2021-12-20T11:15:30.136Z"
   },
   {
    "duration": 1390,
    "start_time": "2021-12-20T11:15:30.660Z"
   },
   {
    "duration": 1569,
    "start_time": "2021-12-20T11:15:30.484Z"
   },
   {
    "duration": 1562,
    "start_time": "2021-12-20T11:15:30.492Z"
   },
   {
    "duration": 1557,
    "start_time": "2021-12-20T11:15:30.498Z"
   },
   {
    "duration": 1554,
    "start_time": "2021-12-20T11:15:30.502Z"
   },
   {
    "duration": 1548,
    "start_time": "2021-12-20T11:15:30.509Z"
   },
   {
    "duration": 1544,
    "start_time": "2021-12-20T11:15:30.514Z"
   },
   {
    "duration": 1539,
    "start_time": "2021-12-20T11:15:30.520Z"
   },
   {
    "duration": 1519,
    "start_time": "2021-12-20T11:15:30.541Z"
   },
   {
    "duration": 1514,
    "start_time": "2021-12-20T11:15:30.548Z"
   },
   {
    "duration": 1513,
    "start_time": "2021-12-20T11:15:30.551Z"
   },
   {
    "duration": 1509,
    "start_time": "2021-12-20T11:15:30.556Z"
   },
   {
    "duration": 1506,
    "start_time": "2021-12-20T11:15:30.560Z"
   },
   {
    "duration": 1504,
    "start_time": "2021-12-20T11:15:30.564Z"
   },
   {
    "duration": 1501,
    "start_time": "2021-12-20T11:15:30.568Z"
   },
   {
    "duration": 1497,
    "start_time": "2021-12-20T11:15:30.573Z"
   },
   {
    "duration": 1496,
    "start_time": "2021-12-20T11:15:30.576Z"
   },
   {
    "duration": 1493,
    "start_time": "2021-12-20T11:15:30.581Z"
   },
   {
    "duration": 1491,
    "start_time": "2021-12-20T11:15:30.584Z"
   },
   {
    "duration": 1488,
    "start_time": "2021-12-20T11:15:30.588Z"
   },
   {
    "duration": 1487,
    "start_time": "2021-12-20T11:15:30.591Z"
   },
   {
    "duration": 1484,
    "start_time": "2021-12-20T11:15:30.595Z"
   },
   {
    "duration": 1482,
    "start_time": "2021-12-20T11:15:30.598Z"
   },
   {
    "duration": 1480,
    "start_time": "2021-12-20T11:15:30.602Z"
   },
   {
    "duration": 1479,
    "start_time": "2021-12-20T11:15:30.604Z"
   },
   {
    "duration": 1476,
    "start_time": "2021-12-20T11:15:30.608Z"
   },
   {
    "duration": 1475,
    "start_time": "2021-12-20T11:15:30.611Z"
   },
   {
    "duration": 1472,
    "start_time": "2021-12-20T11:15:30.615Z"
   },
   {
    "duration": 1470,
    "start_time": "2021-12-20T11:15:30.619Z"
   },
   {
    "duration": 1468,
    "start_time": "2021-12-20T11:15:30.622Z"
   },
   {
    "duration": 1467,
    "start_time": "2021-12-20T11:15:30.625Z"
   },
   {
    "duration": 1463,
    "start_time": "2021-12-20T11:15:30.630Z"
   },
   {
    "duration": 1462,
    "start_time": "2021-12-20T11:15:30.633Z"
   },
   {
    "duration": 1459,
    "start_time": "2021-12-20T11:15:30.637Z"
   },
   {
    "duration": 1450,
    "start_time": "2021-12-20T11:15:30.647Z"
   },
   {
    "duration": 1448,
    "start_time": "2021-12-20T11:15:30.650Z"
   },
   {
    "duration": 1446,
    "start_time": "2021-12-20T11:15:30.653Z"
   },
   {
    "duration": 1208,
    "start_time": "2021-12-20T11:16:59.486Z"
   },
   {
    "duration": 138,
    "start_time": "2021-12-20T11:17:17.393Z"
   },
   {
    "duration": 160,
    "start_time": "2021-12-20T11:17:22.275Z"
   },
   {
    "duration": 24,
    "start_time": "2021-12-20T11:17:46.877Z"
   },
   {
    "duration": 16,
    "start_time": "2021-12-20T11:23:40.726Z"
   },
   {
    "duration": 9,
    "start_time": "2021-12-20T11:24:14.619Z"
   },
   {
    "duration": 866,
    "start_time": "2021-12-20T18:53:47.440Z"
   },
   {
    "duration": 684,
    "start_time": "2021-12-20T18:53:55.618Z"
   },
   {
    "duration": 160,
    "start_time": "2021-12-20T18:53:56.305Z"
   },
   {
    "duration": 20,
    "start_time": "2021-12-20T18:53:56.467Z"
   },
   {
    "duration": 4,
    "start_time": "2021-12-20T18:53:56.489Z"
   },
   {
    "duration": 6,
    "start_time": "2021-12-20T18:53:56.495Z"
   },
   {
    "duration": 7,
    "start_time": "2021-12-20T18:53:56.503Z"
   },
   {
    "duration": 10,
    "start_time": "2021-12-20T18:53:56.512Z"
   },
   {
    "duration": 3,
    "start_time": "2021-12-20T18:53:56.543Z"
   },
   {
    "duration": 6,
    "start_time": "2021-12-20T18:53:56.550Z"
   },
   {
    "duration": 5,
    "start_time": "2021-12-20T18:53:56.559Z"
   },
   {
    "duration": 5,
    "start_time": "2021-12-20T18:53:56.566Z"
   },
   {
    "duration": 6,
    "start_time": "2021-12-20T18:53:56.573Z"
   },
   {
    "duration": 9,
    "start_time": "2021-12-20T18:53:56.581Z"
   },
   {
    "duration": 7,
    "start_time": "2021-12-20T18:53:56.592Z"
   },
   {
    "duration": 6,
    "start_time": "2021-12-20T18:53:56.602Z"
   },
   {
    "duration": 5,
    "start_time": "2021-12-20T18:53:56.611Z"
   },
   {
    "duration": 24,
    "start_time": "2021-12-20T18:53:56.619Z"
   },
   {
    "duration": 7,
    "start_time": "2021-12-20T18:53:56.646Z"
   },
   {
    "duration": 7,
    "start_time": "2021-12-20T18:53:56.655Z"
   },
   {
    "duration": 13,
    "start_time": "2021-12-20T18:53:56.664Z"
   },
   {
    "duration": 8,
    "start_time": "2021-12-20T18:53:56.679Z"
   },
   {
    "duration": 8,
    "start_time": "2021-12-20T18:53:56.689Z"
   },
   {
    "duration": 9,
    "start_time": "2021-12-20T18:53:56.699Z"
   },
   {
    "duration": 12,
    "start_time": "2021-12-20T18:53:56.709Z"
   },
   {
    "duration": 11,
    "start_time": "2021-12-20T18:53:56.723Z"
   },
   {
    "duration": 8,
    "start_time": "2021-12-20T18:53:56.737Z"
   },
   {
    "duration": 4,
    "start_time": "2021-12-20T18:53:56.750Z"
   },
   {
    "duration": 7,
    "start_time": "2021-12-20T18:53:56.757Z"
   },
   {
    "duration": 7,
    "start_time": "2021-12-20T18:53:56.767Z"
   },
   {
    "duration": 10,
    "start_time": "2021-12-20T18:53:56.776Z"
   },
   {
    "duration": 7,
    "start_time": "2021-12-20T18:53:56.789Z"
   },
   {
    "duration": 9,
    "start_time": "2021-12-20T18:53:56.799Z"
   },
   {
    "duration": 7,
    "start_time": "2021-12-20T18:53:56.811Z"
   },
   {
    "duration": 8,
    "start_time": "2021-12-20T18:53:56.820Z"
   },
   {
    "duration": 4,
    "start_time": "2021-12-20T18:53:56.841Z"
   },
   {
    "duration": 12,
    "start_time": "2021-12-20T18:53:56.847Z"
   },
   {
    "duration": 10,
    "start_time": "2021-12-20T18:53:56.862Z"
   },
   {
    "duration": 4,
    "start_time": "2021-12-20T18:56:17.411Z"
   },
   {
    "duration": 366,
    "start_time": "2021-12-20T19:08:59.565Z"
   },
   {
    "duration": 19,
    "start_time": "2021-12-20T19:13:28.642Z"
   },
   {
    "duration": 4,
    "start_time": "2021-12-20T19:13:42.736Z"
   },
   {
    "duration": 20,
    "start_time": "2021-12-20T19:13:53.202Z"
   },
   {
    "duration": 17,
    "start_time": "2021-12-20T19:14:00.354Z"
   },
   {
    "duration": 3,
    "start_time": "2021-12-20T19:14:05.359Z"
   },
   {
    "duration": 2,
    "start_time": "2021-12-20T19:14:18.786Z"
   },
   {
    "duration": 132,
    "start_time": "2021-12-20T19:14:18.790Z"
   },
   {
    "duration": 20,
    "start_time": "2021-12-20T19:14:18.923Z"
   },
   {
    "duration": 5,
    "start_time": "2021-12-20T19:14:18.945Z"
   },
   {
    "duration": 23,
    "start_time": "2021-12-20T19:14:18.952Z"
   },
   {
    "duration": 3,
    "start_time": "2021-12-20T19:14:18.976Z"
   },
   {
    "duration": 7,
    "start_time": "2021-12-20T19:14:18.982Z"
   },
   {
    "duration": 7,
    "start_time": "2021-12-20T19:14:18.991Z"
   },
   {
    "duration": 8,
    "start_time": "2021-12-20T19:14:19.000Z"
   },
   {
    "duration": 9,
    "start_time": "2021-12-20T19:14:19.009Z"
   },
   {
    "duration": 7,
    "start_time": "2021-12-20T19:14:19.019Z"
   },
   {
    "duration": 13,
    "start_time": "2021-12-20T19:14:19.028Z"
   },
   {
    "duration": 8,
    "start_time": "2021-12-20T19:14:19.042Z"
   },
   {
    "duration": 10,
    "start_time": "2021-12-20T19:14:19.051Z"
   },
   {
    "duration": 11,
    "start_time": "2021-12-20T19:14:19.062Z"
   },
   {
    "duration": 9,
    "start_time": "2021-12-20T19:14:19.074Z"
   },
   {
    "duration": 8,
    "start_time": "2021-12-20T19:14:19.084Z"
   },
   {
    "duration": 6,
    "start_time": "2021-12-20T19:14:19.094Z"
   },
   {
    "duration": 6,
    "start_time": "2021-12-20T19:14:19.103Z"
   },
   {
    "duration": 11,
    "start_time": "2021-12-20T19:14:19.110Z"
   },
   {
    "duration": 9,
    "start_time": "2021-12-20T19:14:19.122Z"
   },
   {
    "duration": 8,
    "start_time": "2021-12-20T19:14:19.132Z"
   },
   {
    "duration": 7,
    "start_time": "2021-12-20T19:14:19.141Z"
   },
   {
    "duration": 9,
    "start_time": "2021-12-20T19:14:19.149Z"
   },
   {
    "duration": 12,
    "start_time": "2021-12-20T19:14:19.159Z"
   },
   {
    "duration": 10,
    "start_time": "2021-12-20T19:14:19.172Z"
   },
   {
    "duration": 9,
    "start_time": "2021-12-20T19:14:19.184Z"
   },
   {
    "duration": 9,
    "start_time": "2021-12-20T19:14:19.194Z"
   },
   {
    "duration": 9,
    "start_time": "2021-12-20T19:14:19.204Z"
   },
   {
    "duration": 12,
    "start_time": "2021-12-20T19:14:19.214Z"
   },
   {
    "duration": 9,
    "start_time": "2021-12-20T19:14:19.228Z"
   },
   {
    "duration": 12,
    "start_time": "2021-12-20T19:14:19.238Z"
   },
   {
    "duration": 7,
    "start_time": "2021-12-20T19:14:19.252Z"
   },
   {
    "duration": 11,
    "start_time": "2021-12-20T19:14:19.261Z"
   },
   {
    "duration": 8,
    "start_time": "2021-12-20T19:14:19.273Z"
   },
   {
    "duration": 9,
    "start_time": "2021-12-20T19:14:19.283Z"
   },
   {
    "duration": 9,
    "start_time": "2021-12-20T19:14:19.293Z"
   },
   {
    "duration": 4,
    "start_time": "2021-12-20T19:16:43.614Z"
   },
   {
    "duration": 21,
    "start_time": "2021-12-20T19:16:47.974Z"
   },
   {
    "duration": 5,
    "start_time": "2021-12-20T19:16:51.135Z"
   },
   {
    "duration": 3,
    "start_time": "2021-12-20T19:16:55.077Z"
   },
   {
    "duration": 188,
    "start_time": "2021-12-20T19:16:55.082Z"
   },
   {
    "duration": 12,
    "start_time": "2021-12-20T19:16:55.272Z"
   },
   {
    "duration": 6,
    "start_time": "2021-12-20T19:16:55.286Z"
   },
   {
    "duration": 25,
    "start_time": "2021-12-20T19:16:55.294Z"
   },
   {
    "duration": 20,
    "start_time": "2021-12-20T19:16:55.321Z"
   },
   {
    "duration": 3,
    "start_time": "2021-12-20T19:16:55.343Z"
   },
   {
    "duration": 8,
    "start_time": "2021-12-20T19:16:55.347Z"
   },
   {
    "duration": 8,
    "start_time": "2021-12-20T19:16:55.358Z"
   },
   {
    "duration": 4,
    "start_time": "2021-12-20T19:16:55.369Z"
   },
   {
    "duration": 7,
    "start_time": "2021-12-20T19:16:55.375Z"
   },
   {
    "duration": 10,
    "start_time": "2021-12-20T19:16:55.384Z"
   },
   {
    "duration": 9,
    "start_time": "2021-12-20T19:16:55.396Z"
   },
   {
    "duration": 8,
    "start_time": "2021-12-20T19:16:55.407Z"
   },
   {
    "duration": 7,
    "start_time": "2021-12-20T19:16:55.417Z"
   },
   {
    "duration": 18,
    "start_time": "2021-12-20T19:16:55.426Z"
   },
   {
    "duration": 8,
    "start_time": "2021-12-20T19:16:55.446Z"
   },
   {
    "duration": 7,
    "start_time": "2021-12-20T19:16:55.456Z"
   },
   {
    "duration": 8,
    "start_time": "2021-12-20T19:16:55.465Z"
   },
   {
    "duration": 10,
    "start_time": "2021-12-20T19:16:55.475Z"
   },
   {
    "duration": 7,
    "start_time": "2021-12-20T19:16:55.487Z"
   },
   {
    "duration": 8,
    "start_time": "2021-12-20T19:16:55.496Z"
   },
   {
    "duration": 7,
    "start_time": "2021-12-20T19:16:55.506Z"
   },
   {
    "duration": 8,
    "start_time": "2021-12-20T19:16:55.515Z"
   },
   {
    "duration": 16,
    "start_time": "2021-12-20T19:16:55.525Z"
   },
   {
    "duration": 10,
    "start_time": "2021-12-20T19:16:55.543Z"
   },
   {
    "duration": 19,
    "start_time": "2021-12-20T19:16:55.556Z"
   },
   {
    "duration": 10,
    "start_time": "2021-12-20T19:16:55.577Z"
   },
   {
    "duration": 9,
    "start_time": "2021-12-20T19:16:55.589Z"
   },
   {
    "duration": 17,
    "start_time": "2021-12-20T19:16:55.600Z"
   },
   {
    "duration": 14,
    "start_time": "2021-12-20T19:16:55.619Z"
   },
   {
    "duration": 14,
    "start_time": "2021-12-20T19:16:55.635Z"
   },
   {
    "duration": 9,
    "start_time": "2021-12-20T19:16:55.651Z"
   },
   {
    "duration": 8,
    "start_time": "2021-12-20T19:16:55.662Z"
   },
   {
    "duration": 11,
    "start_time": "2021-12-20T19:16:55.672Z"
   },
   {
    "duration": 13,
    "start_time": "2021-12-20T19:16:55.685Z"
   },
   {
    "duration": 8,
    "start_time": "2021-12-20T19:16:55.700Z"
   },
   {
    "duration": 3,
    "start_time": "2021-12-20T19:17:11.692Z"
   },
   {
    "duration": 197,
    "start_time": "2021-12-20T19:17:11.698Z"
   },
   {
    "duration": 24,
    "start_time": "2021-12-20T19:17:11.898Z"
   },
   {
    "duration": 7,
    "start_time": "2021-12-20T19:17:11.925Z"
   },
   {
    "duration": 26,
    "start_time": "2021-12-20T19:17:11.934Z"
   },
   {
    "duration": 11,
    "start_time": "2021-12-20T19:17:11.962Z"
   },
   {
    "duration": 5,
    "start_time": "2021-12-20T19:17:11.975Z"
   },
   {
    "duration": 5,
    "start_time": "2021-12-20T19:17:11.983Z"
   },
   {
    "duration": 3,
    "start_time": "2021-12-20T19:17:11.992Z"
   },
   {
    "duration": 12,
    "start_time": "2021-12-20T19:17:11.998Z"
   },
   {
    "duration": 9,
    "start_time": "2021-12-20T19:17:12.012Z"
   },
   {
    "duration": 18,
    "start_time": "2021-12-20T19:17:12.023Z"
   },
   {
    "duration": 16,
    "start_time": "2021-12-20T19:17:12.044Z"
   },
   {
    "duration": 11,
    "start_time": "2021-12-20T19:17:12.062Z"
   },
   {
    "duration": 7,
    "start_time": "2021-12-20T19:17:12.076Z"
   },
   {
    "duration": 12,
    "start_time": "2021-12-20T19:17:12.085Z"
   },
   {
    "duration": 8,
    "start_time": "2021-12-20T19:17:12.100Z"
   },
   {
    "duration": 8,
    "start_time": "2021-12-20T19:17:12.110Z"
   },
   {
    "duration": 8,
    "start_time": "2021-12-20T19:17:12.120Z"
   },
   {
    "duration": 16,
    "start_time": "2021-12-20T19:17:12.130Z"
   },
   {
    "duration": 15,
    "start_time": "2021-12-20T19:17:12.149Z"
   },
   {
    "duration": 19,
    "start_time": "2021-12-20T19:17:12.167Z"
   },
   {
    "duration": 9,
    "start_time": "2021-12-20T19:17:12.189Z"
   },
   {
    "duration": 11,
    "start_time": "2021-12-20T19:17:12.200Z"
   },
   {
    "duration": 16,
    "start_time": "2021-12-20T19:17:12.213Z"
   },
   {
    "duration": 77,
    "start_time": "2021-12-20T19:17:12.231Z"
   },
   {
    "duration": 28,
    "start_time": "2021-12-20T19:17:12.313Z"
   },
   {
    "duration": 14,
    "start_time": "2021-12-20T19:17:12.344Z"
   },
   {
    "duration": 13,
    "start_time": "2021-12-20T19:17:12.360Z"
   },
   {
    "duration": 19,
    "start_time": "2021-12-20T19:17:12.376Z"
   },
   {
    "duration": 14,
    "start_time": "2021-12-20T19:17:12.397Z"
   },
   {
    "duration": 17,
    "start_time": "2021-12-20T19:17:12.414Z"
   },
   {
    "duration": 14,
    "start_time": "2021-12-20T19:17:12.433Z"
   },
   {
    "duration": 9,
    "start_time": "2021-12-20T19:17:12.449Z"
   },
   {
    "duration": 10,
    "start_time": "2021-12-20T19:17:12.460Z"
   },
   {
    "duration": 16,
    "start_time": "2021-12-20T19:17:12.472Z"
   },
   {
    "duration": 13,
    "start_time": "2021-12-20T19:17:12.490Z"
   },
   {
    "duration": 34,
    "start_time": "2021-12-20T19:24:35.824Z"
   },
   {
    "duration": 25,
    "start_time": "2021-12-20T19:25:19.261Z"
   },
   {
    "duration": 82,
    "start_time": "2021-12-20T19:34:22.814Z"
   },
   {
    "duration": 24,
    "start_time": "2021-12-20T19:34:42.507Z"
   },
   {
    "duration": 26,
    "start_time": "2021-12-20T19:34:55.065Z"
   },
   {
    "duration": 68,
    "start_time": "2021-12-20T19:35:59.461Z"
   },
   {
    "duration": 76,
    "start_time": "2021-12-20T19:36:37.519Z"
   },
   {
    "duration": 60,
    "start_time": "2021-12-20T19:36:48.122Z"
   },
   {
    "duration": 7,
    "start_time": "2021-12-20T19:40:03.366Z"
   },
   {
    "duration": 289,
    "start_time": "2021-12-20T19:42:44.572Z"
   },
   {
    "duration": 6,
    "start_time": "2021-12-20T19:53:24.763Z"
   },
   {
    "duration": 4,
    "start_time": "2021-12-20T19:58:20.239Z"
   },
   {
    "duration": 188,
    "start_time": "2021-12-20T19:58:20.245Z"
   },
   {
    "duration": 16,
    "start_time": "2021-12-20T19:58:20.440Z"
   },
   {
    "duration": 15,
    "start_time": "2021-12-20T19:58:20.459Z"
   },
   {
    "duration": 38,
    "start_time": "2021-12-20T19:58:20.476Z"
   },
   {
    "duration": 24,
    "start_time": "2021-12-20T19:58:20.516Z"
   },
   {
    "duration": 48,
    "start_time": "2021-12-20T19:58:20.542Z"
   },
   {
    "duration": 35,
    "start_time": "2021-12-20T19:58:20.593Z"
   },
   {
    "duration": 32,
    "start_time": "2021-12-20T19:58:20.631Z"
   },
   {
    "duration": 71,
    "start_time": "2021-12-20T19:58:20.665Z"
   },
   {
    "duration": 76,
    "start_time": "2021-12-20T19:58:20.739Z"
   },
   {
    "duration": 80,
    "start_time": "2021-12-20T19:58:20.817Z"
   },
   {
    "duration": 87,
    "start_time": "2021-12-20T19:58:20.899Z"
   },
   {
    "duration": 1819,
    "start_time": "2021-12-20T19:58:19.169Z"
   },
   {
    "duration": 1815,
    "start_time": "2021-12-20T19:58:19.174Z"
   },
   {
    "duration": 1812,
    "start_time": "2021-12-20T19:58:19.178Z"
   },
   {
    "duration": 1807,
    "start_time": "2021-12-20T19:58:19.184Z"
   },
   {
    "duration": 1778,
    "start_time": "2021-12-20T19:58:19.214Z"
   },
   {
    "duration": 1773,
    "start_time": "2021-12-20T19:58:19.220Z"
   },
   {
    "duration": 1770,
    "start_time": "2021-12-20T19:58:19.224Z"
   },
   {
    "duration": 1766,
    "start_time": "2021-12-20T19:58:19.229Z"
   },
   {
    "duration": 1762,
    "start_time": "2021-12-20T19:58:19.234Z"
   },
   {
    "duration": 1760,
    "start_time": "2021-12-20T19:58:19.237Z"
   },
   {
    "duration": 1757,
    "start_time": "2021-12-20T19:58:19.241Z"
   },
   {
    "duration": 1755,
    "start_time": "2021-12-20T19:58:19.245Z"
   },
   {
    "duration": 1751,
    "start_time": "2021-12-20T19:58:19.250Z"
   },
   {
    "duration": 1749,
    "start_time": "2021-12-20T19:58:19.253Z"
   },
   {
    "duration": 1746,
    "start_time": "2021-12-20T19:58:19.257Z"
   },
   {
    "duration": 1744,
    "start_time": "2021-12-20T19:58:19.260Z"
   },
   {
    "duration": 1739,
    "start_time": "2021-12-20T19:58:19.266Z"
   },
   {
    "duration": 1736,
    "start_time": "2021-12-20T19:58:19.270Z"
   },
   {
    "duration": 1733,
    "start_time": "2021-12-20T19:58:19.274Z"
   },
   {
    "duration": 1731,
    "start_time": "2021-12-20T19:58:19.277Z"
   },
   {
    "duration": 1727,
    "start_time": "2021-12-20T19:58:19.282Z"
   },
   {
    "duration": 1724,
    "start_time": "2021-12-20T19:58:19.286Z"
   },
   {
    "duration": 1720,
    "start_time": "2021-12-20T19:58:19.291Z"
   },
   {
    "duration": 7,
    "start_time": "2021-12-20T19:58:55.424Z"
   },
   {
    "duration": 137,
    "start_time": "2021-12-20T20:01:11.329Z"
   },
   {
    "duration": 4,
    "start_time": "2021-12-20T20:01:42.389Z"
   },
   {
    "duration": 261,
    "start_time": "2021-12-20T20:02:11.904Z"
   },
   {
    "duration": 4,
    "start_time": "2021-12-20T20:03:22.720Z"
   },
   {
    "duration": 7722,
    "start_time": "2021-12-20T20:03:26.713Z"
   },
   {
    "duration": 4,
    "start_time": "2021-12-20T20:04:21.054Z"
   },
   {
    "duration": 269,
    "start_time": "2021-12-20T20:04:25.435Z"
   },
   {
    "duration": 4,
    "start_time": "2021-12-20T20:04:38.458Z"
   },
   {
    "duration": 796,
    "start_time": "2021-12-20T20:04:40.858Z"
   },
   {
    "duration": 8,
    "start_time": "2021-12-20T20:04:58.539Z"
   },
   {
    "duration": 12,
    "start_time": "2021-12-20T20:05:00.785Z"
   },
   {
    "duration": 12,
    "start_time": "2021-12-20T20:05:30.476Z"
   },
   {
    "duration": 8,
    "start_time": "2021-12-20T20:05:43.121Z"
   },
   {
    "duration": 270,
    "start_time": "2021-12-20T20:19:35.224Z"
   },
   {
    "duration": 311,
    "start_time": "2021-12-20T20:19:43.923Z"
   },
   {
    "duration": 2181,
    "start_time": "2021-12-20T20:23:39.254Z"
   },
   {
    "duration": 1934,
    "start_time": "2021-12-20T20:24:00.921Z"
   },
   {
    "duration": 15,
    "start_time": "2021-12-20T20:24:16.561Z"
   },
   {
    "duration": 12,
    "start_time": "2021-12-20T20:26:38.455Z"
   },
   {
    "duration": 97,
    "start_time": "2021-12-20T20:27:44.041Z"
   },
   {
    "duration": 240,
    "start_time": "2021-12-20T20:27:54.013Z"
   },
   {
    "duration": 247,
    "start_time": "2021-12-20T20:28:54.209Z"
   },
   {
    "duration": 11,
    "start_time": "2021-12-20T20:30:23.360Z"
   },
   {
    "duration": 12,
    "start_time": "2021-12-20T20:30:46.398Z"
   },
   {
    "duration": 12,
    "start_time": "2021-12-20T20:34:32.428Z"
   },
   {
    "duration": 251,
    "start_time": "2021-12-20T20:34:35.566Z"
   },
   {
    "duration": 12,
    "start_time": "2021-12-20T20:34:46.075Z"
   },
   {
    "duration": 91,
    "start_time": "2021-12-20T20:59:38.358Z"
   },
   {
    "duration": 1185,
    "start_time": "2021-12-20T20:59:59.964Z"
   },
   {
    "duration": 4,
    "start_time": "2021-12-20T21:00:09.078Z"
   },
   {
    "duration": 4,
    "start_time": "2021-12-20T21:00:15.129Z"
   },
   {
    "duration": 4,
    "start_time": "2021-12-20T21:01:01.118Z"
   },
   {
    "duration": 345,
    "start_time": "2021-12-20T21:04:42.063Z"
   },
   {
    "duration": 12,
    "start_time": "2021-12-20T21:04:53.274Z"
   },
   {
    "duration": 11,
    "start_time": "2021-12-20T21:05:19.793Z"
   },
   {
    "duration": 10,
    "start_time": "2021-12-20T21:08:19.573Z"
   },
   {
    "duration": 5,
    "start_time": "2021-12-20T21:08:21.842Z"
   },
   {
    "duration": 11,
    "start_time": "2021-12-20T21:08:28.027Z"
   },
   {
    "duration": 13,
    "start_time": "2021-12-20T21:09:59.708Z"
   },
   {
    "duration": 4,
    "start_time": "2021-12-20T21:11:32.318Z"
   },
   {
    "duration": 11,
    "start_time": "2021-12-20T21:11:37.373Z"
   },
   {
    "duration": 11,
    "start_time": "2021-12-20T21:11:41.088Z"
   },
   {
    "duration": 10,
    "start_time": "2021-12-20T21:11:43.795Z"
   },
   {
    "duration": 2,
    "start_time": "2021-12-20T21:17:00.665Z"
   },
   {
    "duration": 182,
    "start_time": "2021-12-20T21:17:00.670Z"
   },
   {
    "duration": 13,
    "start_time": "2021-12-20T21:17:00.855Z"
   },
   {
    "duration": 12,
    "start_time": "2021-12-20T21:17:00.870Z"
   },
   {
    "duration": 16,
    "start_time": "2021-12-20T21:17:00.884Z"
   },
   {
    "duration": 4,
    "start_time": "2021-12-20T21:17:00.903Z"
   },
   {
    "duration": 54,
    "start_time": "2021-12-20T21:17:00.909Z"
   },
   {
    "duration": 29,
    "start_time": "2021-12-20T21:17:00.966Z"
   },
   {
    "duration": 51,
    "start_time": "2021-12-20T21:17:00.997Z"
   },
   {
    "duration": 78,
    "start_time": "2021-12-20T21:17:01.049Z"
   },
   {
    "duration": 77,
    "start_time": "2021-12-20T21:17:01.129Z"
   },
   {
    "duration": 71,
    "start_time": "2021-12-20T21:17:01.208Z"
   },
   {
    "duration": 6,
    "start_time": "2021-12-20T21:17:01.281Z"
   },
   {
    "duration": 14,
    "start_time": "2021-12-20T21:17:01.288Z"
   },
   {
    "duration": 34,
    "start_time": "2021-12-20T21:17:01.304Z"
   },
   {
    "duration": 27,
    "start_time": "2021-12-20T21:17:01.341Z"
   },
   {
    "duration": 53,
    "start_time": "2021-12-20T21:17:01.370Z"
   },
   {
    "duration": 26,
    "start_time": "2021-12-20T21:17:01.425Z"
   },
   {
    "duration": 105,
    "start_time": "2021-12-20T21:17:01.456Z"
   },
   {
    "duration": -76,
    "start_time": "2021-12-20T21:17:01.640Z"
   },
   {
    "duration": -78,
    "start_time": "2021-12-20T21:17:01.643Z"
   },
   {
    "duration": -81,
    "start_time": "2021-12-20T21:17:01.647Z"
   },
   {
    "duration": -93,
    "start_time": "2021-12-20T21:17:01.659Z"
   },
   {
    "duration": -96,
    "start_time": "2021-12-20T21:17:01.663Z"
   },
   {
    "duration": -100,
    "start_time": "2021-12-20T21:17:01.669Z"
   },
   {
    "duration": -102,
    "start_time": "2021-12-20T21:17:01.672Z"
   },
   {
    "duration": -105,
    "start_time": "2021-12-20T21:17:01.676Z"
   },
   {
    "duration": -112,
    "start_time": "2021-12-20T21:17:01.685Z"
   },
   {
    "duration": -115,
    "start_time": "2021-12-20T21:17:01.689Z"
   },
   {
    "duration": -116,
    "start_time": "2021-12-20T21:17:01.692Z"
   },
   {
    "duration": -118,
    "start_time": "2021-12-20T21:17:01.695Z"
   },
   {
    "duration": -121,
    "start_time": "2021-12-20T21:17:01.699Z"
   },
   {
    "duration": -126,
    "start_time": "2021-12-20T21:17:01.705Z"
   },
   {
    "duration": -130,
    "start_time": "2021-12-20T21:17:01.710Z"
   },
   {
    "duration": -132,
    "start_time": "2021-12-20T21:17:01.713Z"
   },
   {
    "duration": -135,
    "start_time": "2021-12-20T21:17:01.717Z"
   },
   {
    "duration": -139,
    "start_time": "2021-12-20T21:17:01.722Z"
   },
   {
    "duration": -140,
    "start_time": "2021-12-20T21:17:01.725Z"
   },
   {
    "duration": 11,
    "start_time": "2021-12-20T21:17:48.162Z"
   },
   {
    "duration": 12,
    "start_time": "2021-12-20T21:17:54.232Z"
   },
   {
    "duration": 12,
    "start_time": "2021-12-20T21:17:56.663Z"
   },
   {
    "duration": 93,
    "start_time": "2021-12-20T21:18:02.271Z"
   },
   {
    "duration": 115,
    "start_time": "2021-12-20T21:19:39.504Z"
   },
   {
    "duration": 12,
    "start_time": "2021-12-20T21:21:58.121Z"
   },
   {
    "duration": 5,
    "start_time": "2021-12-20T21:22:00.825Z"
   },
   {
    "duration": 4,
    "start_time": "2021-12-20T21:23:22.224Z"
   },
   {
    "duration": 13,
    "start_time": "2021-12-20T21:23:25.485Z"
   },
   {
    "duration": 136,
    "start_time": "2021-12-20T21:25:06.138Z"
   },
   {
    "duration": 429,
    "start_time": "2021-12-20T21:25:11.786Z"
   },
   {
    "duration": 5,
    "start_time": "2021-12-20T21:25:19.609Z"
   },
   {
    "duration": 24,
    "start_time": "2021-12-20T21:25:44.105Z"
   },
   {
    "duration": 20,
    "start_time": "2021-12-20T21:25:46.276Z"
   },
   {
    "duration": 19,
    "start_time": "2021-12-20T21:25:49.338Z"
   },
   {
    "duration": 21,
    "start_time": "2021-12-20T21:25:52.257Z"
   },
   {
    "duration": 23,
    "start_time": "2021-12-20T21:25:57.412Z"
   },
   {
    "duration": 21,
    "start_time": "2021-12-20T21:26:00.803Z"
   },
   {
    "duration": 250,
    "start_time": "2021-12-20T21:28:32.108Z"
   },
   {
    "duration": 245,
    "start_time": "2021-12-20T21:28:47.722Z"
   },
   {
    "duration": 643,
    "start_time": "2021-12-20T21:31:56.492Z"
   },
   {
    "duration": 282,
    "start_time": "2021-12-20T21:32:15.426Z"
   },
   {
    "duration": 252,
    "start_time": "2021-12-20T21:34:19.399Z"
   },
   {
    "duration": 21,
    "start_time": "2021-12-20T21:35:03.926Z"
   },
   {
    "duration": 249,
    "start_time": "2021-12-20T21:35:05.707Z"
   },
   {
    "duration": 328,
    "start_time": "2021-12-20T21:40:22.314Z"
   },
   {
    "duration": 257,
    "start_time": "2021-12-20T21:42:56.796Z"
   },
   {
    "duration": 250,
    "start_time": "2021-12-20T21:43:10.085Z"
   },
   {
    "duration": 249,
    "start_time": "2021-12-20T21:43:41.970Z"
   },
   {
    "duration": 280,
    "start_time": "2021-12-20T21:50:09.702Z"
   },
   {
    "duration": 312,
    "start_time": "2021-12-20T21:51:35.096Z"
   },
   {
    "duration": 272,
    "start_time": "2021-12-20T21:51:40.265Z"
   },
   {
    "duration": 272,
    "start_time": "2021-12-20T21:58:46.218Z"
   },
   {
    "duration": 265,
    "start_time": "2021-12-20T21:59:15.850Z"
   },
   {
    "duration": 13,
    "start_time": "2021-12-20T22:02:41.871Z"
   },
   {
    "duration": 10,
    "start_time": "2021-12-20T22:04:07.781Z"
   },
   {
    "duration": 12,
    "start_time": "2021-12-20T22:10:14.632Z"
   },
   {
    "duration": 7,
    "start_time": "2021-12-20T22:11:13.655Z"
   },
   {
    "duration": 8,
    "start_time": "2021-12-20T22:12:23.622Z"
   },
   {
    "duration": 8,
    "start_time": "2021-12-20T22:12:42.857Z"
   },
   {
    "duration": 13,
    "start_time": "2021-12-20T22:15:21.001Z"
   },
   {
    "duration": 12,
    "start_time": "2021-12-20T22:15:23.754Z"
   },
   {
    "duration": 538,
    "start_time": "2021-12-21T06:35:26.901Z"
   },
   {
    "duration": 522,
    "start_time": "2021-12-21T06:35:38.548Z"
   },
   {
    "duration": 369,
    "start_time": "2021-12-21T06:35:58.164Z"
   },
   {
    "duration": 354,
    "start_time": "2021-12-21T06:36:31.849Z"
   },
   {
    "duration": 321,
    "start_time": "2021-12-21T06:36:34.058Z"
   },
   {
    "duration": 301,
    "start_time": "2021-12-21T06:36:47.577Z"
   },
   {
    "duration": 663,
    "start_time": "2021-12-21T06:37:02.178Z"
   },
   {
    "duration": 170,
    "start_time": "2021-12-21T06:37:02.843Z"
   },
   {
    "duration": 26,
    "start_time": "2021-12-21T06:37:03.016Z"
   },
   {
    "duration": 4,
    "start_time": "2021-12-21T06:37:03.045Z"
   },
   {
    "duration": 35,
    "start_time": "2021-12-21T06:37:03.051Z"
   },
   {
    "duration": 4,
    "start_time": "2021-12-21T06:37:03.088Z"
   },
   {
    "duration": 32,
    "start_time": "2021-12-21T06:37:03.094Z"
   },
   {
    "duration": 31,
    "start_time": "2021-12-21T06:37:03.129Z"
   },
   {
    "duration": 25,
    "start_time": "2021-12-21T06:37:03.162Z"
   },
   {
    "duration": 89,
    "start_time": "2021-12-21T06:37:03.190Z"
   },
   {
    "duration": 91,
    "start_time": "2021-12-21T06:37:03.281Z"
   },
   {
    "duration": 73,
    "start_time": "2021-12-21T06:37:03.374Z"
   },
   {
    "duration": 8,
    "start_time": "2021-12-21T06:37:03.449Z"
   },
   {
    "duration": 5,
    "start_time": "2021-12-21T06:37:03.459Z"
   },
   {
    "duration": 15,
    "start_time": "2021-12-21T06:37:03.466Z"
   },
   {
    "duration": 6,
    "start_time": "2021-12-21T06:37:03.483Z"
   },
   {
    "duration": 49,
    "start_time": "2021-12-21T06:37:03.492Z"
   },
   {
    "duration": 15,
    "start_time": "2021-12-21T06:37:03.543Z"
   },
   {
    "duration": 4,
    "start_time": "2021-12-21T06:37:03.561Z"
   },
   {
    "duration": 29,
    "start_time": "2021-12-21T06:37:03.567Z"
   },
   {
    "duration": 49,
    "start_time": "2021-12-21T06:37:03.598Z"
   },
   {
    "duration": 20,
    "start_time": "2021-12-21T06:37:03.649Z"
   },
   {
    "duration": 20,
    "start_time": "2021-12-21T06:37:03.673Z"
   },
   {
    "duration": 48,
    "start_time": "2021-12-21T06:37:03.695Z"
   },
   {
    "duration": 23,
    "start_time": "2021-12-21T06:37:03.745Z"
   },
   {
    "duration": 7,
    "start_time": "2021-12-21T06:37:03.770Z"
   },
   {
    "duration": 16,
    "start_time": "2021-12-21T06:37:03.780Z"
   },
   {
    "duration": 43,
    "start_time": "2021-12-21T06:37:03.798Z"
   },
   {
    "duration": 4,
    "start_time": "2021-12-21T06:37:03.843Z"
   },
   {
    "duration": 678,
    "start_time": "2021-12-21T06:37:03.849Z"
   },
   {
    "duration": 735,
    "start_time": "2021-12-21T06:37:03.794Z"
   },
   {
    "duration": 732,
    "start_time": "2021-12-21T06:37:03.798Z"
   },
   {
    "duration": 730,
    "start_time": "2021-12-21T06:37:03.802Z"
   },
   {
    "duration": 727,
    "start_time": "2021-12-21T06:37:03.806Z"
   },
   {
    "duration": 725,
    "start_time": "2021-12-21T06:37:03.809Z"
   },
   {
    "duration": 722,
    "start_time": "2021-12-21T06:37:03.813Z"
   },
   {
    "duration": 721,
    "start_time": "2021-12-21T06:37:03.816Z"
   },
   {
    "duration": 8,
    "start_time": "2021-12-21T06:38:48.436Z"
   },
   {
    "duration": 5,
    "start_time": "2021-12-21T06:45:34.439Z"
   },
   {
    "duration": 516,
    "start_time": "2021-12-21T06:45:46.784Z"
   },
   {
    "duration": 5,
    "start_time": "2021-12-21T06:49:32.993Z"
   },
   {
    "duration": 512,
    "start_time": "2021-12-21T06:49:38.938Z"
   },
   {
    "duration": 7,
    "start_time": "2021-12-21T06:49:48.580Z"
   },
   {
    "duration": 521,
    "start_time": "2021-12-21T06:49:51.441Z"
   },
   {
    "duration": 4,
    "start_time": "2021-12-21T06:50:09.339Z"
   },
   {
    "duration": 595,
    "start_time": "2021-12-21T06:50:13.093Z"
   },
   {
    "duration": 5,
    "start_time": "2021-12-21T06:50:31.591Z"
   },
   {
    "duration": 536,
    "start_time": "2021-12-21T06:50:34.058Z"
   },
   {
    "duration": 4,
    "start_time": "2021-12-21T06:51:12.165Z"
   },
   {
    "duration": 805,
    "start_time": "2021-12-21T06:51:15.213Z"
   },
   {
    "duration": 576,
    "start_time": "2021-12-21T06:51:18.379Z"
   },
   {
    "duration": 6,
    "start_time": "2021-12-21T06:51:43.800Z"
   },
   {
    "duration": 526,
    "start_time": "2021-12-21T06:51:46.219Z"
   },
   {
    "duration": 6,
    "start_time": "2021-12-21T06:51:55.677Z"
   },
   {
    "duration": 572,
    "start_time": "2021-12-21T06:51:58.094Z"
   },
   {
    "duration": 4,
    "start_time": "2021-12-21T06:52:20.090Z"
   },
   {
    "duration": 24,
    "start_time": "2021-12-21T06:52:22.050Z"
   },
   {
    "duration": 16,
    "start_time": "2021-12-21T06:52:34.668Z"
   },
   {
    "duration": 23,
    "start_time": "2021-12-21T06:52:36.907Z"
   },
   {
    "duration": 16,
    "start_time": "2021-12-21T06:52:40.035Z"
   },
   {
    "duration": 16,
    "start_time": "2021-12-21T06:54:22.472Z"
   },
   {
    "duration": 21,
    "start_time": "2021-12-21T06:54:24.443Z"
   },
   {
    "duration": 20,
    "start_time": "2021-12-21T06:54:26.280Z"
   },
   {
    "duration": 87,
    "start_time": "2021-12-21T07:31:48.046Z"
   },
   {
    "duration": 22,
    "start_time": "2021-12-21T07:31:53.039Z"
   },
   {
    "duration": 16,
    "start_time": "2021-12-21T07:31:55.596Z"
   },
   {
    "duration": 21,
    "start_time": "2021-12-21T07:31:58.236Z"
   },
   {
    "duration": 16,
    "start_time": "2021-12-21T07:32:00.141Z"
   },
   {
    "duration": 5,
    "start_time": "2021-12-21T07:32:13.782Z"
   },
   {
    "duration": 24,
    "start_time": "2021-12-21T07:32:16.555Z"
   },
   {
    "duration": 16,
    "start_time": "2021-12-21T07:32:18.988Z"
   },
   {
    "duration": 9,
    "start_time": "2021-12-21T07:36:42.407Z"
   },
   {
    "duration": 5,
    "start_time": "2021-12-21T07:37:17.625Z"
   },
   {
    "duration": 7,
    "start_time": "2021-12-21T07:38:07.432Z"
   },
   {
    "duration": 4,
    "start_time": "2021-12-21T07:38:25.429Z"
   },
   {
    "duration": 3,
    "start_time": "2021-12-21T07:40:22.317Z"
   },
   {
    "duration": 189,
    "start_time": "2021-12-21T07:40:22.322Z"
   },
   {
    "duration": 12,
    "start_time": "2021-12-21T07:40:22.513Z"
   },
   {
    "duration": 4,
    "start_time": "2021-12-21T07:40:22.542Z"
   },
   {
    "duration": 23,
    "start_time": "2021-12-21T07:40:22.548Z"
   },
   {
    "duration": 3,
    "start_time": "2021-12-21T07:40:22.573Z"
   },
   {
    "duration": 29,
    "start_time": "2021-12-21T07:40:22.578Z"
   },
   {
    "duration": 41,
    "start_time": "2021-12-21T07:40:22.610Z"
   },
   {
    "duration": 25,
    "start_time": "2021-12-21T07:40:22.654Z"
   },
   {
    "duration": 81,
    "start_time": "2021-12-21T07:40:22.680Z"
   },
   {
    "duration": 88,
    "start_time": "2021-12-21T07:40:22.763Z"
   },
   {
    "duration": 58,
    "start_time": "2021-12-21T07:40:22.853Z"
   },
   {
    "duration": 7,
    "start_time": "2021-12-21T07:40:22.913Z"
   },
   {
    "duration": 21,
    "start_time": "2021-12-21T07:40:22.921Z"
   },
   {
    "duration": 13,
    "start_time": "2021-12-21T07:40:22.944Z"
   },
   {
    "duration": 7,
    "start_time": "2021-12-21T07:40:22.959Z"
   },
   {
    "duration": 13,
    "start_time": "2021-12-21T07:40:22.968Z"
   },
   {
    "duration": 13,
    "start_time": "2021-12-21T07:40:22.983Z"
   },
   {
    "duration": 42,
    "start_time": "2021-12-21T07:40:22.999Z"
   },
   {
    "duration": 23,
    "start_time": "2021-12-21T07:40:23.043Z"
   },
   {
    "duration": 20,
    "start_time": "2021-12-21T07:40:23.067Z"
   },
   {
    "duration": 20,
    "start_time": "2021-12-21T07:40:23.088Z"
   },
   {
    "duration": 19,
    "start_time": "2021-12-21T07:40:23.141Z"
   },
   {
    "duration": 22,
    "start_time": "2021-12-21T07:40:23.162Z"
   },
   {
    "duration": 19,
    "start_time": "2021-12-21T07:40:23.186Z"
   },
   {
    "duration": 7,
    "start_time": "2021-12-21T07:40:23.207Z"
   },
   {
    "duration": 12,
    "start_time": "2021-12-21T07:40:23.242Z"
   },
   {
    "duration": 11,
    "start_time": "2021-12-21T07:40:23.256Z"
   },
   {
    "duration": 5,
    "start_time": "2021-12-21T07:40:23.269Z"
   },
   {
    "duration": 31,
    "start_time": "2021-12-21T07:40:23.275Z"
   },
   {
    "duration": 42,
    "start_time": "2021-12-21T07:40:23.308Z"
   },
   {
    "duration": 18,
    "start_time": "2021-12-21T07:40:23.352Z"
   },
   {
    "duration": 13,
    "start_time": "2021-12-21T07:40:23.372Z"
   },
   {
    "duration": 16,
    "start_time": "2021-12-21T07:40:23.387Z"
   },
   {
    "duration": 4,
    "start_time": "2021-12-21T07:40:23.405Z"
   },
   {
    "duration": 30,
    "start_time": "2021-12-21T07:40:23.411Z"
   },
   {
    "duration": 5,
    "start_time": "2021-12-21T07:40:23.443Z"
   },
   {
    "duration": 57,
    "start_time": "2021-12-21T15:20:25.394Z"
   },
   {
    "duration": 375,
    "start_time": "2021-12-21T15:32:47.149Z"
   },
   {
    "duration": 600,
    "start_time": "2021-12-21T19:08:49.472Z"
   },
   {
    "duration": 164,
    "start_time": "2021-12-21T19:08:50.074Z"
   },
   {
    "duration": 17,
    "start_time": "2021-12-21T19:08:50.240Z"
   },
   {
    "duration": 5,
    "start_time": "2021-12-21T19:08:50.259Z"
   },
   {
    "duration": 43,
    "start_time": "2021-12-21T19:08:50.266Z"
   },
   {
    "duration": 4,
    "start_time": "2021-12-21T19:08:50.311Z"
   },
   {
    "duration": 24,
    "start_time": "2021-12-21T19:08:50.316Z"
   },
   {
    "duration": 17,
    "start_time": "2021-12-21T19:08:50.343Z"
   },
   {
    "duration": 52,
    "start_time": "2021-12-21T19:08:50.362Z"
   },
   {
    "duration": 62,
    "start_time": "2021-12-21T19:08:50.417Z"
   },
   {
    "duration": 79,
    "start_time": "2021-12-21T19:08:50.492Z"
   },
   {
    "duration": 71,
    "start_time": "2021-12-21T19:08:50.572Z"
   },
   {
    "duration": 295,
    "start_time": "2021-12-21T19:08:50.645Z"
   },
   {
    "duration": 1719,
    "start_time": "2021-12-21T19:08:49.223Z"
   },
   {
    "duration": 1715,
    "start_time": "2021-12-21T19:08:49.228Z"
   },
   {
    "duration": 1713,
    "start_time": "2021-12-21T19:08:49.231Z"
   },
   {
    "duration": 1708,
    "start_time": "2021-12-21T19:08:49.237Z"
   },
   {
    "duration": 1705,
    "start_time": "2021-12-21T19:08:49.241Z"
   },
   {
    "duration": 1702,
    "start_time": "2021-12-21T19:08:49.245Z"
   },
   {
    "duration": 1699,
    "start_time": "2021-12-21T19:08:49.249Z"
   },
   {
    "duration": 1689,
    "start_time": "2021-12-21T19:08:49.260Z"
   },
   {
    "duration": 1686,
    "start_time": "2021-12-21T19:08:49.264Z"
   },
   {
    "duration": 1682,
    "start_time": "2021-12-21T19:08:49.269Z"
   },
   {
    "duration": 1680,
    "start_time": "2021-12-21T19:08:49.273Z"
   },
   {
    "duration": 1678,
    "start_time": "2021-12-21T19:08:49.276Z"
   },
   {
    "duration": 1675,
    "start_time": "2021-12-21T19:08:49.280Z"
   },
   {
    "duration": 1672,
    "start_time": "2021-12-21T19:08:49.284Z"
   },
   {
    "duration": 1669,
    "start_time": "2021-12-21T19:08:49.287Z"
   },
   {
    "duration": 1666,
    "start_time": "2021-12-21T19:08:49.291Z"
   },
   {
    "duration": 1663,
    "start_time": "2021-12-21T19:08:49.295Z"
   },
   {
    "duration": 1661,
    "start_time": "2021-12-21T19:08:49.298Z"
   },
   {
    "duration": 1658,
    "start_time": "2021-12-21T19:08:49.302Z"
   },
   {
    "duration": 1655,
    "start_time": "2021-12-21T19:08:49.306Z"
   },
   {
    "duration": 1652,
    "start_time": "2021-12-21T19:08:49.310Z"
   },
   {
    "duration": 1650,
    "start_time": "2021-12-21T19:08:49.313Z"
   },
   {
    "duration": 1647,
    "start_time": "2021-12-21T19:08:49.317Z"
   },
   {
    "duration": 1644,
    "start_time": "2021-12-21T19:08:49.321Z"
   },
   {
    "duration": 40,
    "start_time": "2021-12-21T19:10:09.606Z"
   },
   {
    "duration": 806,
    "start_time": "2021-12-27T08:51:14.635Z"
   },
   {
    "duration": 258,
    "start_time": "2021-12-27T08:51:20.750Z"
   },
   {
    "duration": 274,
    "start_time": "2021-12-27T08:54:52.444Z"
   },
   {
    "duration": 893,
    "start_time": "2021-12-27T08:55:15.035Z"
   },
   {
    "duration": 796,
    "start_time": "2021-12-27T08:56:47.653Z"
   },
   {
    "duration": 200,
    "start_time": "2021-12-27T08:56:48.451Z"
   },
   {
    "duration": 33,
    "start_time": "2021-12-27T08:56:48.654Z"
   },
   {
    "duration": 5,
    "start_time": "2021-12-27T08:56:48.690Z"
   },
   {
    "duration": 28,
    "start_time": "2021-12-27T08:56:48.697Z"
   },
   {
    "duration": 5,
    "start_time": "2021-12-27T08:56:48.727Z"
   },
   {
    "duration": 62,
    "start_time": "2021-12-27T08:56:48.734Z"
   },
   {
    "duration": 24,
    "start_time": "2021-12-27T08:56:48.800Z"
   },
   {
    "duration": 59,
    "start_time": "2021-12-27T08:56:48.827Z"
   },
   {
    "duration": 107,
    "start_time": "2021-12-27T08:56:48.888Z"
   },
   {
    "duration": 118,
    "start_time": "2021-12-27T08:56:48.998Z"
   },
   {
    "duration": 89,
    "start_time": "2021-12-27T08:56:49.118Z"
   },
   {
    "duration": 77,
    "start_time": "2021-12-27T08:56:49.209Z"
   },
   {
    "duration": 4,
    "start_time": "2021-12-27T08:56:49.289Z"
   },
   {
    "duration": 22,
    "start_time": "2021-12-27T08:56:49.295Z"
   },
   {
    "duration": 10,
    "start_time": "2021-12-27T08:56:49.320Z"
   },
   {
    "duration": 51,
    "start_time": "2021-12-27T08:56:49.332Z"
   },
   {
    "duration": 17,
    "start_time": "2021-12-27T08:56:49.386Z"
   },
   {
    "duration": 6,
    "start_time": "2021-12-27T08:56:49.405Z"
   },
   {
    "duration": 29,
    "start_time": "2021-12-27T08:56:49.414Z"
   },
   {
    "duration": 28,
    "start_time": "2021-12-27T08:56:49.468Z"
   },
   {
    "duration": 22,
    "start_time": "2021-12-27T08:56:49.498Z"
   },
   {
    "duration": 61,
    "start_time": "2021-12-27T08:56:49.524Z"
   },
   {
    "duration": 25,
    "start_time": "2021-12-27T08:56:49.587Z"
   },
   {
    "duration": 22,
    "start_time": "2021-12-27T08:56:49.615Z"
   },
   {
    "duration": 37,
    "start_time": "2021-12-27T08:56:49.640Z"
   },
   {
    "duration": 19,
    "start_time": "2021-12-27T08:56:49.682Z"
   },
   {
    "duration": 12,
    "start_time": "2021-12-27T08:56:49.704Z"
   },
   {
    "duration": 13,
    "start_time": "2021-12-27T08:56:49.719Z"
   },
   {
    "duration": 60,
    "start_time": "2021-12-27T08:56:49.734Z"
   },
   {
    "duration": 21,
    "start_time": "2021-12-27T08:56:49.797Z"
   },
   {
    "duration": 54,
    "start_time": "2021-12-27T08:56:49.821Z"
   },
   {
    "duration": 22,
    "start_time": "2021-12-27T08:56:49.878Z"
   },
   {
    "duration": 13,
    "start_time": "2021-12-27T08:56:49.902Z"
   },
   {
    "duration": 5,
    "start_time": "2021-12-27T08:56:49.918Z"
   },
   {
    "duration": 46,
    "start_time": "2021-12-27T08:56:49.925Z"
   },
   {
    "duration": 11,
    "start_time": "2021-12-27T08:56:49.973Z"
   },
   {
    "duration": 84,
    "start_time": "2021-12-27T09:03:43.374Z"
   },
   {
    "duration": 41,
    "start_time": "2021-12-27T09:41:06.919Z"
   },
   {
    "duration": 41,
    "start_time": "2021-12-27T09:41:09.772Z"
   }
  ],
  "colab": {
   "collapsed_sections": [
    "E0vqbgi9ay0H",
    "VUC88oWjTJw2"
   ],
   "name": "yandex_music_project_2021.2.ipynb",
   "provenance": []
  },
  "kernelspec": {
   "display_name": "Python 3 (ipykernel)",
   "language": "python",
   "name": "python3"
  },
  "language_info": {
   "codemirror_mode": {
    "name": "ipython",
    "version": 3
   },
   "file_extension": ".py",
   "mimetype": "text/x-python",
   "name": "python",
   "nbconvert_exporter": "python",
   "pygments_lexer": "ipython3",
   "version": "3.9.5"
  },
  "toc": {
   "base_numbering": 1,
   "nav_menu": {},
   "number_sections": true,
   "sideBar": true,
   "skip_h1_title": true,
   "title_cell": "Table of Contents",
   "title_sidebar": "Contents",
   "toc_cell": false,
   "toc_position": {
    "height": "calc(100% - 180px)",
    "left": "10px",
    "top": "150px",
    "width": "165px"
   },
   "toc_section_display": true,
   "toc_window_display": true
  }
 },
 "nbformat": 4,
 "nbformat_minor": 1
}
